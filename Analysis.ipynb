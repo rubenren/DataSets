{
 "cells": [
  {
   "cell_type": "code",
   "execution_count": 1,
   "metadata": {},
   "outputs": [],
   "source": [
    "import json\n",
    "import pandas as pd\n",
    "import numpy as np\n",
    "%matplotlib inline"
   ]
  },
  {
   "cell_type": "code",
   "execution_count": 2,
   "metadata": {},
   "outputs": [],
   "source": [
    "# Dictionary to store the data in\n",
    "historical_data = {}\n",
    "\n",
    "file_name = 'data/AMZN_AAPL_BTCUSD_SPY.json'"
   ]
  },
  {
   "cell_type": "code",
   "execution_count": 3,
   "metadata": {},
   "outputs": [],
   "source": [
    "with open(\"data/AMZN_AAPL_BTCUSD_SPY.json\", 'r') as f:\n",
    "    all_data = json.load(f)"
   ]
  },
  {
   "cell_type": "code",
   "execution_count": 4,
   "metadata": {},
   "outputs": [
    {
     "data": {
      "text/plain": [
       "dict_keys(['amzn', 'aapl', 'btc-usd', 'spy'])"
      ]
     },
     "execution_count": 4,
     "metadata": {},
     "output_type": "execute_result"
    }
   ],
   "source": [
    "all_data.keys()"
   ]
  },
  {
   "cell_type": "code",
   "execution_count": 5,
   "metadata": {},
   "outputs": [],
   "source": [
    "spy = pd.DataFrame(all_data['spy']).transpose()\n",
    "spy['date'] = pd.to_datetime(spy['date'], unit='ms')\n",
    "spy = spy.set_index('date')"
   ]
  },
  {
   "cell_type": "code",
   "execution_count": 6,
   "metadata": {},
   "outputs": [
    {
     "data": {
      "text/html": [
       "<div>\n",
       "<style scoped>\n",
       "    .dataframe tbody tr th:only-of-type {\n",
       "        vertical-align: middle;\n",
       "    }\n",
       "\n",
       "    .dataframe tbody tr th {\n",
       "        vertical-align: top;\n",
       "    }\n",
       "\n",
       "    .dataframe thead th {\n",
       "        text-align: right;\n",
       "    }\n",
       "</style>\n",
       "<table border=\"1\" class=\"dataframe\">\n",
       "  <thead>\n",
       "    <tr style=\"text-align: right;\">\n",
       "      <th></th>\n",
       "      <th>open</th>\n",
       "      <th>high</th>\n",
       "      <th>low</th>\n",
       "      <th>close</th>\n",
       "      <th>adjclose</th>\n",
       "      <th>volume</th>\n",
       "      <th>ticker</th>\n",
       "    </tr>\n",
       "    <tr>\n",
       "      <th>date</th>\n",
       "      <th></th>\n",
       "      <th></th>\n",
       "      <th></th>\n",
       "      <th></th>\n",
       "      <th></th>\n",
       "      <th></th>\n",
       "      <th></th>\n",
       "    </tr>\n",
       "  </thead>\n",
       "  <tbody>\n",
       "    <tr>\n",
       "      <th>2000-01-03</th>\n",
       "      <td>148.25</td>\n",
       "      <td>148.25</td>\n",
       "      <td>143.875</td>\n",
       "      <td>145.438</td>\n",
       "      <td>96.855</td>\n",
       "      <td>8164300</td>\n",
       "      <td>SPY</td>\n",
       "    </tr>\n",
       "    <tr>\n",
       "      <th>2000-01-04</th>\n",
       "      <td>143.531</td>\n",
       "      <td>144.062</td>\n",
       "      <td>139.641</td>\n",
       "      <td>139.75</td>\n",
       "      <td>93.0674</td>\n",
       "      <td>8089800</td>\n",
       "      <td>SPY</td>\n",
       "    </tr>\n",
       "    <tr>\n",
       "      <th>2000-01-05</th>\n",
       "      <td>139.938</td>\n",
       "      <td>141.531</td>\n",
       "      <td>137.25</td>\n",
       "      <td>140</td>\n",
       "      <td>93.2339</td>\n",
       "      <td>12177900</td>\n",
       "      <td>SPY</td>\n",
       "    </tr>\n",
       "    <tr>\n",
       "      <th>2000-01-06</th>\n",
       "      <td>139.625</td>\n",
       "      <td>141.5</td>\n",
       "      <td>137.75</td>\n",
       "      <td>137.75</td>\n",
       "      <td>91.7355</td>\n",
       "      <td>6227200</td>\n",
       "      <td>SPY</td>\n",
       "    </tr>\n",
       "    <tr>\n",
       "      <th>2000-01-07</th>\n",
       "      <td>140.312</td>\n",
       "      <td>145.75</td>\n",
       "      <td>140.062</td>\n",
       "      <td>145.75</td>\n",
       "      <td>97.0631</td>\n",
       "      <td>8066500</td>\n",
       "      <td>SPY</td>\n",
       "    </tr>\n",
       "    <tr>\n",
       "      <th>...</th>\n",
       "      <td>...</td>\n",
       "      <td>...</td>\n",
       "      <td>...</td>\n",
       "      <td>...</td>\n",
       "      <td>...</td>\n",
       "      <td>...</td>\n",
       "      <td>...</td>\n",
       "    </tr>\n",
       "    <tr>\n",
       "      <th>2020-12-23</th>\n",
       "      <td>368.28</td>\n",
       "      <td>369.62</td>\n",
       "      <td>367.22</td>\n",
       "      <td>367.57</td>\n",
       "      <td>362.735</td>\n",
       "      <td>46201400</td>\n",
       "      <td>SPY</td>\n",
       "    </tr>\n",
       "    <tr>\n",
       "      <th>2020-12-24</th>\n",
       "      <td>368.08</td>\n",
       "      <td>369.03</td>\n",
       "      <td>367.45</td>\n",
       "      <td>369</td>\n",
       "      <td>364.146</td>\n",
       "      <td>26457900</td>\n",
       "      <td>SPY</td>\n",
       "    </tr>\n",
       "    <tr>\n",
       "      <th>2020-12-28</th>\n",
       "      <td>371.74</td>\n",
       "      <td>372.59</td>\n",
       "      <td>371.07</td>\n",
       "      <td>372.17</td>\n",
       "      <td>367.274</td>\n",
       "      <td>39000400</td>\n",
       "      <td>SPY</td>\n",
       "    </tr>\n",
       "    <tr>\n",
       "      <th>2020-12-29</th>\n",
       "      <td>373.81</td>\n",
       "      <td>374</td>\n",
       "      <td>370.83</td>\n",
       "      <td>371.46</td>\n",
       "      <td>366.574</td>\n",
       "      <td>53680500</td>\n",
       "      <td>SPY</td>\n",
       "    </tr>\n",
       "    <tr>\n",
       "      <th>2020-12-30</th>\n",
       "      <td>372.34</td>\n",
       "      <td>373.1</td>\n",
       "      <td>371.57</td>\n",
       "      <td>371.99</td>\n",
       "      <td>367.097</td>\n",
       "      <td>49455300</td>\n",
       "      <td>SPY</td>\n",
       "    </tr>\n",
       "  </tbody>\n",
       "</table>\n",
       "<p>5283 rows × 7 columns</p>\n",
       "</div>"
      ],
      "text/plain": [
       "               open     high      low    close adjclose    volume ticker\n",
       "date                                                                    \n",
       "2000-01-03   148.25   148.25  143.875  145.438   96.855   8164300    SPY\n",
       "2000-01-04  143.531  144.062  139.641   139.75  93.0674   8089800    SPY\n",
       "2000-01-05  139.938  141.531   137.25      140  93.2339  12177900    SPY\n",
       "2000-01-06  139.625    141.5   137.75   137.75  91.7355   6227200    SPY\n",
       "2000-01-07  140.312   145.75  140.062   145.75  97.0631   8066500    SPY\n",
       "...             ...      ...      ...      ...      ...       ...    ...\n",
       "2020-12-23   368.28   369.62   367.22   367.57  362.735  46201400    SPY\n",
       "2020-12-24   368.08   369.03   367.45      369  364.146  26457900    SPY\n",
       "2020-12-28   371.74   372.59   371.07   372.17  367.274  39000400    SPY\n",
       "2020-12-29   373.81      374   370.83   371.46  366.574  53680500    SPY\n",
       "2020-12-30   372.34    373.1   371.57   371.99  367.097  49455300    SPY\n",
       "\n",
       "[5283 rows x 7 columns]"
      ]
     },
     "execution_count": 6,
     "metadata": {},
     "output_type": "execute_result"
    }
   ],
   "source": [
    "spy"
   ]
  },
  {
   "cell_type": "markdown",
   "metadata": {},
   "source": [
    "#### Which days did the market go up or down?"
   ]
  },
  {
   "cell_type": "code",
   "execution_count": 7,
   "metadata": {},
   "outputs": [],
   "source": [
    "def rel_change(x):\n",
    "    return (x[1] - x[0])/x[0]"
   ]
  },
  {
   "cell_type": "code",
   "execution_count": 8,
   "metadata": {},
   "outputs": [
    {
     "data": {
      "text/html": [
       "<div>\n",
       "<style scoped>\n",
       "    .dataframe tbody tr th:only-of-type {\n",
       "        vertical-align: middle;\n",
       "    }\n",
       "\n",
       "    .dataframe tbody tr th {\n",
       "        vertical-align: top;\n",
       "    }\n",
       "\n",
       "    .dataframe thead th {\n",
       "        text-align: right;\n",
       "    }\n",
       "</style>\n",
       "<table border=\"1\" class=\"dataframe\">\n",
       "  <thead>\n",
       "    <tr style=\"text-align: right;\">\n",
       "      <th></th>\n",
       "      <th>adjclose</th>\n",
       "      <th>change</th>\n",
       "    </tr>\n",
       "    <tr>\n",
       "      <th>date</th>\n",
       "      <th></th>\n",
       "      <th></th>\n",
       "    </tr>\n",
       "  </thead>\n",
       "  <tbody>\n",
       "    <tr>\n",
       "      <th>2000-01-03</th>\n",
       "      <td>96.855</td>\n",
       "      <td>NaN</td>\n",
       "    </tr>\n",
       "    <tr>\n",
       "      <th>2000-01-04</th>\n",
       "      <td>93.0674</td>\n",
       "      <td>-0.039106</td>\n",
       "    </tr>\n",
       "    <tr>\n",
       "      <th>2000-01-05</th>\n",
       "      <td>93.2339</td>\n",
       "      <td>0.001789</td>\n",
       "    </tr>\n",
       "    <tr>\n",
       "      <th>2000-01-06</th>\n",
       "      <td>91.7355</td>\n",
       "      <td>-0.016071</td>\n",
       "    </tr>\n",
       "    <tr>\n",
       "      <th>2000-01-07</th>\n",
       "      <td>97.0631</td>\n",
       "      <td>0.058076</td>\n",
       "    </tr>\n",
       "    <tr>\n",
       "      <th>...</th>\n",
       "      <td>...</td>\n",
       "      <td>...</td>\n",
       "    </tr>\n",
       "    <tr>\n",
       "      <th>2020-12-23</th>\n",
       "      <td>362.735</td>\n",
       "      <td>0.000899</td>\n",
       "    </tr>\n",
       "    <tr>\n",
       "      <th>2020-12-24</th>\n",
       "      <td>364.146</td>\n",
       "      <td>0.003890</td>\n",
       "    </tr>\n",
       "    <tr>\n",
       "      <th>2020-12-28</th>\n",
       "      <td>367.274</td>\n",
       "      <td>0.008591</td>\n",
       "    </tr>\n",
       "    <tr>\n",
       "      <th>2020-12-29</th>\n",
       "      <td>366.574</td>\n",
       "      <td>-0.001908</td>\n",
       "    </tr>\n",
       "    <tr>\n",
       "      <th>2020-12-30</th>\n",
       "      <td>367.097</td>\n",
       "      <td>0.001427</td>\n",
       "    </tr>\n",
       "  </tbody>\n",
       "</table>\n",
       "<p>5283 rows × 2 columns</p>\n",
       "</div>"
      ],
      "text/plain": [
       "           adjclose    change\n",
       "date                         \n",
       "2000-01-03   96.855       NaN\n",
       "2000-01-04  93.0674 -0.039106\n",
       "2000-01-05  93.2339  0.001789\n",
       "2000-01-06  91.7355 -0.016071\n",
       "2000-01-07  97.0631  0.058076\n",
       "...             ...       ...\n",
       "2020-12-23  362.735  0.000899\n",
       "2020-12-24  364.146  0.003890\n",
       "2020-12-28  367.274  0.008591\n",
       "2020-12-29  366.574 -0.001908\n",
       "2020-12-30  367.097  0.001427\n",
       "\n",
       "[5283 rows x 2 columns]"
      ]
     },
     "execution_count": 8,
     "metadata": {},
     "output_type": "execute_result"
    }
   ],
   "source": [
    "spytt = spy[['adjclose']]\n",
    "spytt = spytt.assign(change=spytt.rolling(2).apply(rel_change, raw=False))\n",
    "spytt"
   ]
  },
  {
   "cell_type": "code",
   "execution_count": 9,
   "metadata": {},
   "outputs": [
    {
     "data": {
      "text/html": [
       "<div>\n",
       "<style scoped>\n",
       "    .dataframe tbody tr th:only-of-type {\n",
       "        vertical-align: middle;\n",
       "    }\n",
       "\n",
       "    .dataframe tbody tr th {\n",
       "        vertical-align: top;\n",
       "    }\n",
       "\n",
       "    .dataframe thead th {\n",
       "        text-align: right;\n",
       "    }\n",
       "</style>\n",
       "<table border=\"1\" class=\"dataframe\">\n",
       "  <thead>\n",
       "    <tr style=\"text-align: right;\">\n",
       "      <th></th>\n",
       "      <th>adjclose</th>\n",
       "      <th>change</th>\n",
       "      <th>day_in_year</th>\n",
       "    </tr>\n",
       "    <tr>\n",
       "      <th>date</th>\n",
       "      <th></th>\n",
       "      <th></th>\n",
       "      <th></th>\n",
       "    </tr>\n",
       "  </thead>\n",
       "  <tbody>\n",
       "    <tr>\n",
       "      <th>2000-01-03</th>\n",
       "      <td>96.855</td>\n",
       "      <td>NaN</td>\n",
       "      <td>3</td>\n",
       "    </tr>\n",
       "    <tr>\n",
       "      <th>2000-01-04</th>\n",
       "      <td>93.0674</td>\n",
       "      <td>-0.039106</td>\n",
       "      <td>4</td>\n",
       "    </tr>\n",
       "    <tr>\n",
       "      <th>2000-01-05</th>\n",
       "      <td>93.2339</td>\n",
       "      <td>0.001789</td>\n",
       "      <td>5</td>\n",
       "    </tr>\n",
       "    <tr>\n",
       "      <th>2000-01-06</th>\n",
       "      <td>91.7355</td>\n",
       "      <td>-0.016071</td>\n",
       "      <td>6</td>\n",
       "    </tr>\n",
       "    <tr>\n",
       "      <th>2000-01-07</th>\n",
       "      <td>97.0631</td>\n",
       "      <td>0.058076</td>\n",
       "      <td>7</td>\n",
       "    </tr>\n",
       "    <tr>\n",
       "      <th>...</th>\n",
       "      <td>...</td>\n",
       "      <td>...</td>\n",
       "      <td>...</td>\n",
       "    </tr>\n",
       "    <tr>\n",
       "      <th>2020-12-23</th>\n",
       "      <td>362.735</td>\n",
       "      <td>0.000899</td>\n",
       "      <td>358</td>\n",
       "    </tr>\n",
       "    <tr>\n",
       "      <th>2020-12-24</th>\n",
       "      <td>364.146</td>\n",
       "      <td>0.003890</td>\n",
       "      <td>359</td>\n",
       "    </tr>\n",
       "    <tr>\n",
       "      <th>2020-12-28</th>\n",
       "      <td>367.274</td>\n",
       "      <td>0.008591</td>\n",
       "      <td>363</td>\n",
       "    </tr>\n",
       "    <tr>\n",
       "      <th>2020-12-29</th>\n",
       "      <td>366.574</td>\n",
       "      <td>-0.001908</td>\n",
       "      <td>364</td>\n",
       "    </tr>\n",
       "    <tr>\n",
       "      <th>2020-12-30</th>\n",
       "      <td>367.097</td>\n",
       "      <td>0.001427</td>\n",
       "      <td>365</td>\n",
       "    </tr>\n",
       "  </tbody>\n",
       "</table>\n",
       "<p>5283 rows × 3 columns</p>\n",
       "</div>"
      ],
      "text/plain": [
       "           adjclose    change  day_in_year\n",
       "date                                      \n",
       "2000-01-03   96.855       NaN            3\n",
       "2000-01-04  93.0674 -0.039106            4\n",
       "2000-01-05  93.2339  0.001789            5\n",
       "2000-01-06  91.7355 -0.016071            6\n",
       "2000-01-07  97.0631  0.058076            7\n",
       "...             ...       ...          ...\n",
       "2020-12-23  362.735  0.000899          358\n",
       "2020-12-24  364.146  0.003890          359\n",
       "2020-12-28  367.274  0.008591          363\n",
       "2020-12-29  366.574 -0.001908          364\n",
       "2020-12-30  367.097  0.001427          365\n",
       "\n",
       "[5283 rows x 3 columns]"
      ]
     },
     "execution_count": 9,
     "metadata": {},
     "output_type": "execute_result"
    }
   ],
   "source": [
    "spytt['day_in_year'] = spytt.index.dayofyear\n",
    "spytt"
   ]
  },
  {
   "cell_type": "code",
   "execution_count": 10,
   "metadata": {},
   "outputs": [
    {
     "data": {
      "text/plain": [
       "<matplotlib.axes._subplots.AxesSubplot at 0x19e9a84bd88>"
      ]
     },
     "execution_count": 10,
     "metadata": {},
     "output_type": "execute_result"
    },
    {
     "data": {
      "image/png": "[encoded data removed]",
      "text/plain": [
       "<Figure size 432x288 with 1 Axes>"
      ]
     },
     "metadata": {
      "needs_background": "light"
     },
     "output_type": "display_data"
    }
   ],
   "source": [
    "spytt['change'].astype('float64').groupby(spytt.index.month).mean().plot.bar()"
   ]
  },
  {
   "cell_type": "code",
   "execution_count": 11,
   "metadata": {},
   "outputs": [
    {
     "data": {
      "text/plain": [
       "<matplotlib.axes._subplots.AxesSubplot at 0x19e99cee688>"
      ]
     },
     "execution_count": 11,
     "metadata": {},
     "output_type": "execute_result"
    },
    {
     "data": {
      "image/png": "[encoded data removed]",
      "text/plain": [
       "<Figure size 432x288 with 1 Axes>"
      ]
     },
     "metadata": {
      "needs_background": "light"
     },
     "output_type": "display_data"
    }
   ],
   "source": [
    "spytt['change'].astype('float64').groupby(spytt.index.dayofyear).mean().plot()"
   ]
  },
  {
   "cell_type": "code",
   "execution_count": 12,
   "metadata": {},
   "outputs": [
    {
     "data": {
      "text/plain": [
       "<matplotlib.axes._subplots.AxesSubplot at 0x19e99e17088>"
      ]
     },
     "execution_count": 12,
     "metadata": {},
     "output_type": "execute_result"
    },
    {
     "data": {
      "image/png": "[encoded data removed]",
      "text/plain": [
       "<Figure size 432x288 with 1 Axes>"
      ]
     },
     "metadata": {
      "needs_background": "light"
     },
     "output_type": "display_data"
    }
   ],
   "source": [
    "spytt['change'].astype('float64').groupby(spytt.index.dayofweek).mean().plot.bar()"
   ]
  },
  {
   "cell_type": "markdown",
   "metadata": {},
   "source": [
    "### Now for bitcoin graphs!"
   ]
  },
  {
   "cell_type": "code",
   "execution_count": 13,
   "metadata": {},
   "outputs": [],
   "source": [
    "btcusd = pd.DataFrame(all_data['btc-usd']).transpose()\n",
    "btcusd['date'] = pd.to_datetime(btcusd['date'], unit='ms')\n",
    "btcusd = btcusd.set_index('date')"
   ]
  },
  {
   "cell_type": "code",
   "execution_count": 14,
   "metadata": {
    "scrolled": false
   },
   "outputs": [
    {
     "data": {
      "text/html": [
       "<div>\n",
       "<style scoped>\n",
       "    .dataframe tbody tr th:only-of-type {\n",
       "        vertical-align: middle;\n",
       "    }\n",
       "\n",
       "    .dataframe tbody tr th {\n",
       "        vertical-align: top;\n",
       "    }\n",
       "\n",
       "    .dataframe thead th {\n",
       "        text-align: right;\n",
       "    }\n",
       "</style>\n",
       "<table border=\"1\" class=\"dataframe\">\n",
       "  <thead>\n",
       "    <tr style=\"text-align: right;\">\n",
       "      <th></th>\n",
       "      <th>open</th>\n",
       "      <th>high</th>\n",
       "      <th>low</th>\n",
       "      <th>close</th>\n",
       "      <th>adjclose</th>\n",
       "      <th>volume</th>\n",
       "      <th>ticker</th>\n",
       "    </tr>\n",
       "    <tr>\n",
       "      <th>date</th>\n",
       "      <th></th>\n",
       "      <th></th>\n",
       "      <th></th>\n",
       "      <th></th>\n",
       "      <th></th>\n",
       "      <th></th>\n",
       "      <th></th>\n",
       "    </tr>\n",
       "  </thead>\n",
       "  <tbody>\n",
       "    <tr>\n",
       "      <th>2014-09-17</th>\n",
       "      <td>465.864</td>\n",
       "      <td>468.174</td>\n",
       "      <td>452.422</td>\n",
       "      <td>457.334</td>\n",
       "      <td>457.334</td>\n",
       "      <td>21056800</td>\n",
       "      <td>BTC-USD</td>\n",
       "    </tr>\n",
       "    <tr>\n",
       "      <th>2014-09-18</th>\n",
       "      <td>456.86</td>\n",
       "      <td>456.86</td>\n",
       "      <td>413.104</td>\n",
       "      <td>424.44</td>\n",
       "      <td>424.44</td>\n",
       "      <td>34483200</td>\n",
       "      <td>BTC-USD</td>\n",
       "    </tr>\n",
       "    <tr>\n",
       "      <th>2014-09-19</th>\n",
       "      <td>424.103</td>\n",
       "      <td>427.835</td>\n",
       "      <td>384.532</td>\n",
       "      <td>394.796</td>\n",
       "      <td>394.796</td>\n",
       "      <td>37919700</td>\n",
       "      <td>BTC-USD</td>\n",
       "    </tr>\n",
       "    <tr>\n",
       "      <th>2014-09-20</th>\n",
       "      <td>394.673</td>\n",
       "      <td>423.296</td>\n",
       "      <td>389.883</td>\n",
       "      <td>408.904</td>\n",
       "      <td>408.904</td>\n",
       "      <td>36863600</td>\n",
       "      <td>BTC-USD</td>\n",
       "    </tr>\n",
       "    <tr>\n",
       "      <th>2014-09-21</th>\n",
       "      <td>408.085</td>\n",
       "      <td>412.426</td>\n",
       "      <td>393.181</td>\n",
       "      <td>398.821</td>\n",
       "      <td>398.821</td>\n",
       "      <td>26580100</td>\n",
       "      <td>BTC-USD</td>\n",
       "    </tr>\n",
       "    <tr>\n",
       "      <th>...</th>\n",
       "      <td>...</td>\n",
       "      <td>...</td>\n",
       "      <td>...</td>\n",
       "      <td>...</td>\n",
       "      <td>...</td>\n",
       "      <td>...</td>\n",
       "      <td>...</td>\n",
       "    </tr>\n",
       "    <tr>\n",
       "      <th>2020-12-27</th>\n",
       "      <td>26439.4</td>\n",
       "      <td>28288.8</td>\n",
       "      <td>25922.8</td>\n",
       "      <td>26272.3</td>\n",
       "      <td>26272.3</td>\n",
       "      <td>66479895605</td>\n",
       "      <td>BTC-USD</td>\n",
       "    </tr>\n",
       "    <tr>\n",
       "      <th>2020-12-28</th>\n",
       "      <td>26280.8</td>\n",
       "      <td>27389.1</td>\n",
       "      <td>26207.6</td>\n",
       "      <td>27084.8</td>\n",
       "      <td>27084.8</td>\n",
       "      <td>49056742893</td>\n",
       "      <td>BTC-USD</td>\n",
       "    </tr>\n",
       "    <tr>\n",
       "      <th>2020-12-29</th>\n",
       "      <td>27081.8</td>\n",
       "      <td>27370.7</td>\n",
       "      <td>25987.3</td>\n",
       "      <td>27362.4</td>\n",
       "      <td>27362.4</td>\n",
       "      <td>45265946774</td>\n",
       "      <td>BTC-USD</td>\n",
       "    </tr>\n",
       "    <tr>\n",
       "      <th>2020-12-30</th>\n",
       "      <td>27360.1</td>\n",
       "      <td>28937.7</td>\n",
       "      <td>27360.1</td>\n",
       "      <td>28841</td>\n",
       "      <td>28841</td>\n",
       "      <td>51287442704</td>\n",
       "      <td>BTC-USD</td>\n",
       "    </tr>\n",
       "    <tr>\n",
       "      <th>2020-12-31</th>\n",
       "      <td>28841.6</td>\n",
       "      <td>29244.9</td>\n",
       "      <td>28202</td>\n",
       "      <td>29001.7</td>\n",
       "      <td>29001.7</td>\n",
       "      <td>46754964848</td>\n",
       "      <td>BTC-USD</td>\n",
       "    </tr>\n",
       "  </tbody>\n",
       "</table>\n",
       "<p>2298 rows × 7 columns</p>\n",
       "</div>"
      ],
      "text/plain": [
       "               open     high      low    close adjclose       volume   ticker\n",
       "date                                                                         \n",
       "2014-09-17  465.864  468.174  452.422  457.334  457.334     21056800  BTC-USD\n",
       "2014-09-18   456.86   456.86  413.104   424.44   424.44     34483200  BTC-USD\n",
       "2014-09-19  424.103  427.835  384.532  394.796  394.796     37919700  BTC-USD\n",
       "2014-09-20  394.673  423.296  389.883  408.904  408.904     36863600  BTC-USD\n",
       "2014-09-21  408.085  412.426  393.181  398.821  398.821     26580100  BTC-USD\n",
       "...             ...      ...      ...      ...      ...          ...      ...\n",
       "2020-12-27  26439.4  28288.8  25922.8  26272.3  26272.3  66479895605  BTC-USD\n",
       "2020-12-28  26280.8  27389.1  26207.6  27084.8  27084.8  49056742893  BTC-USD\n",
       "2020-12-29  27081.8  27370.7  25987.3  27362.4  27362.4  45265946774  BTC-USD\n",
       "2020-12-30  27360.1  28937.7  27360.1    28841    28841  51287442704  BTC-USD\n",
       "2020-12-31  28841.6  29244.9    28202  29001.7  29001.7  46754964848  BTC-USD\n",
       "\n",
       "[2298 rows x 7 columns]"
      ]
     },
     "execution_count": 14,
     "metadata": {},
     "output_type": "execute_result"
    }
   ],
   "source": [
    "btcusd"
   ]
  },
  {
   "cell_type": "code",
   "execution_count": 16,
   "metadata": {},
   "outputs": [
    {
     "data": {
      "text/html": [
       "<div>\n",
       "<style scoped>\n",
       "    .dataframe tbody tr th:only-of-type {\n",
       "        vertical-align: middle;\n",
       "    }\n",
       "\n",
       "    .dataframe tbody tr th {\n",
       "        vertical-align: top;\n",
       "    }\n",
       "\n",
       "    .dataframe thead th {\n",
       "        text-align: right;\n",
       "    }\n",
       "</style>\n",
       "<table border=\"1\" class=\"dataframe\">\n",
       "  <thead>\n",
       "    <tr style=\"text-align: right;\">\n",
       "      <th></th>\n",
       "      <th>adjclose</th>\n",
       "      <th>change</th>\n",
       "    </tr>\n",
       "    <tr>\n",
       "      <th>date</th>\n",
       "      <th></th>\n",
       "      <th></th>\n",
       "    </tr>\n",
       "  </thead>\n",
       "  <tbody>\n",
       "    <tr>\n",
       "      <th>2014-09-17</th>\n",
       "      <td>457.334</td>\n",
       "      <td>NaN</td>\n",
       "    </tr>\n",
       "    <tr>\n",
       "      <th>2014-09-18</th>\n",
       "      <td>424.44</td>\n",
       "      <td>-0.071926</td>\n",
       "    </tr>\n",
       "    <tr>\n",
       "      <th>2014-09-19</th>\n",
       "      <td>394.796</td>\n",
       "      <td>-0.069843</td>\n",
       "    </tr>\n",
       "    <tr>\n",
       "      <th>2014-09-20</th>\n",
       "      <td>408.904</td>\n",
       "      <td>0.035735</td>\n",
       "    </tr>\n",
       "    <tr>\n",
       "      <th>2014-09-21</th>\n",
       "      <td>398.821</td>\n",
       "      <td>-0.024659</td>\n",
       "    </tr>\n",
       "    <tr>\n",
       "      <th>...</th>\n",
       "      <td>...</td>\n",
       "      <td>...</td>\n",
       "    </tr>\n",
       "    <tr>\n",
       "      <th>2020-12-27</th>\n",
       "      <td>26272.3</td>\n",
       "      <td>-0.006231</td>\n",
       "    </tr>\n",
       "    <tr>\n",
       "      <th>2020-12-28</th>\n",
       "      <td>27084.8</td>\n",
       "      <td>0.030927</td>\n",
       "    </tr>\n",
       "    <tr>\n",
       "      <th>2020-12-29</th>\n",
       "      <td>27362.4</td>\n",
       "      <td>0.010250</td>\n",
       "    </tr>\n",
       "    <tr>\n",
       "      <th>2020-12-30</th>\n",
       "      <td>28841</td>\n",
       "      <td>0.054034</td>\n",
       "    </tr>\n",
       "    <tr>\n",
       "      <th>2020-12-31</th>\n",
       "      <td>29001.7</td>\n",
       "      <td>0.005574</td>\n",
       "    </tr>\n",
       "  </tbody>\n",
       "</table>\n",
       "<p>2298 rows × 2 columns</p>\n",
       "</div>"
      ],
      "text/plain": [
       "           adjclose    change\n",
       "date                         \n",
       "2014-09-17  457.334       NaN\n",
       "2014-09-18   424.44 -0.071926\n",
       "2014-09-19  394.796 -0.069843\n",
       "2014-09-20  408.904  0.035735\n",
       "2014-09-21  398.821 -0.024659\n",
       "...             ...       ...\n",
       "2020-12-27  26272.3 -0.006231\n",
       "2020-12-28  27084.8  0.030927\n",
       "2020-12-29  27362.4  0.010250\n",
       "2020-12-30    28841  0.054034\n",
       "2020-12-31  29001.7  0.005574\n",
       "\n",
       "[2298 rows x 2 columns]"
      ]
     },
     "execution_count": 16,
     "metadata": {},
     "output_type": "execute_result"
    }
   ],
   "source": [
    "btctt = btcusd[['adjclose']]\n",
    "btctt = btctt.assign(change=btctt.rolling(2).apply(rel_change, raw=False))\n",
    "btctt"
   ]
  },
  {
   "cell_type": "code",
   "execution_count": 18,
   "metadata": {
    "scrolled": false
   },
   "outputs": [
    {
     "data": {
      "text/plain": [
       "<matplotlib.axes._subplots.AxesSubplot at 0x19e9ab3b408>"
      ]
     },
     "execution_count": 18,
     "metadata": {},
     "output_type": "execute_result"
    },
    {
     "data": {
      "image/png": "[encoded data removed]",
      "text/plain": [
       "<Figure size 432x288 with 1 Axes>"
      ]
     },
     "metadata": {
      "needs_background": "light"
     },
     "output_type": "display_data"
    }
   ],
   "source": [
    "btctt['change'].astype('float64').groupby(btctt.index.month).mean().plot.bar()"
   ]
  },
  {
   "cell_type": "code",
   "execution_count": 19,
   "metadata": {
    "scrolled": false
   },
   "outputs": [
    {
     "data": {
      "text/plain": [
       "<matplotlib.axes._subplots.AxesSubplot at 0x19e9ab6f588>"
      ]
     },
     "execution_count": 19,
     "metadata": {},
     "output_type": "execute_result"
    },
    {
     "data": {
      "image/png": "[encoded data removed]",
      "text/plain": [
       "<Figure size 432x288 with 1 Axes>"
      ]
     },
     "metadata": {
      "needs_background": "light"
     },
     "output_type": "display_data"
    }
   ],
   "source": [
    "btctt['change'].astype('float64').groupby(btctt.index.dayofyear).mean().plot()"
   ]
  },
  {
   "cell_type": "code",
   "execution_count": 20,
   "metadata": {
    "scrolled": false
   },
   "outputs": [
    {
     "data": {
      "text/plain": [
       "<matplotlib.axes._subplots.AxesSubplot at 0x19e9ac22548>"
      ]
     },
     "execution_count": 20,
     "metadata": {},
     "output_type": "execute_result"
    },
    {
     "data": {
      "image/png": "[encoded data removed]",
      "text/plain": [
       "<Figure size 432x288 with 1 Axes>"
      ]
     },
     "metadata": {
      "needs_background": "light"
     },
     "output_type": "display_data"
    }
   ],
   "source": [
    "btctt['change'].astype('float64').groupby(btctt.index.dayofweek).mean().plot.bar()"
   ]
  },
  {
   "cell_type": "code",
   "execution_count": 28,
   "metadata": {},
   "outputs": [],
   "source": [
    "btctt['day_of_week'] = btctt.index.dayofweek"
   ]
  },
  {
   "cell_type": "code",
   "execution_count": 48,
   "metadata": {},
   "outputs": [
    {
     "data": {
      "text/plain": [
       "{0:            adjclose    change  day_of_week\n",
       " date                                      \n",
       " 2014-09-22  402.152  0.008352            0\n",
       " 2014-09-29  375.467 -0.004544            0\n",
       " 2014-10-06  330.079  0.029856            0\n",
       " 2014-10-13  390.414  0.031343            0\n",
       " 2014-10-20  382.845 -0.017202            0\n",
       " ...             ...       ...          ...\n",
       " 2020-11-30  19625.8  0.079678            0\n",
       " 2020-12-07  19191.6 -0.007934            0\n",
       " 2020-12-14  19246.6  0.005447            0\n",
       " 2020-12-21  22803.1 -0.028718            0\n",
       " 2020-12-28  27084.8  0.030927            0\n",
       " \n",
       " [328 rows x 3 columns], 1:            adjclose    change  day_of_week\n",
       " date                                      \n",
       " 2014-09-23  435.791  0.083647            1\n",
       " 2014-09-30  386.944  0.030567            1\n",
       " 2014-10-07  336.187  0.018505            1\n",
       " 2014-10-14   400.87  0.026782            1\n",
       " 2014-10-21  386.475  0.009482            1\n",
       " ...             ...       ...          ...\n",
       " 2020-12-01    18803 -0.041926            1\n",
       " 2020-12-08  18321.1 -0.045358            1\n",
       " 2020-12-15  19417.1  0.008855            1\n",
       " 2020-12-22    23783  0.042974            1\n",
       " 2020-12-29  27362.4  0.010250            1\n",
       " \n",
       " [328 rows x 3 columns], 2:            adjclose    change  day_of_week\n",
       " date                                      \n",
       " 2014-09-17  457.334       NaN            2\n",
       " 2014-09-24  423.205 -0.028881            2\n",
       " 2014-10-01  383.615 -0.008603            2\n",
       " 2014-10-08   352.94  0.049832            2\n",
       " 2014-10-15  394.773 -0.015209            2\n",
       " ...             ...       ...          ...\n",
       " 2020-12-02  19201.1  0.021172            2\n",
       " 2020-12-09  18553.9  0.012705            2\n",
       " 2020-12-16  21310.6  0.097518            2\n",
       " 2020-12-23  23241.3 -0.022776            2\n",
       " 2020-12-30    28841  0.054034            2\n",
       " \n",
       " [329 rows x 3 columns], 3:            adjclose    change  day_of_week\n",
       " date                                      \n",
       " 2014-09-18   424.44 -0.071926            3\n",
       " 2014-09-25  411.574 -0.027483            3\n",
       " 2014-10-02  375.072 -0.022270            3\n",
       " 2014-10-09  365.026  0.034244            3\n",
       " 2014-10-16  382.556 -0.030947            3\n",
       " ...             ...       ...          ...\n",
       " 2020-12-03  19445.4  0.012724            3\n",
       " 2020-12-10    18265 -0.015572            3\n",
       " 2020-12-17  22805.2  0.070132            3\n",
       " 2020-12-24  23735.9  0.021281            3\n",
       " 2020-12-31  29001.7  0.005574            3\n",
       " \n",
       " [329 rows x 3 columns], 4:            adjclose    change  day_of_week\n",
       " date                                      \n",
       " 2014-09-19  394.796 -0.069843            4\n",
       " 2014-09-26  404.425 -0.017370            4\n",
       " 2014-10-03  359.512 -0.041485            4\n",
       " 2014-10-10  361.562 -0.009490            4\n",
       " 2014-10-17  383.758  0.003142            4\n",
       " ...             ...       ...          ...\n",
       " 2020-11-27  17108.4 -0.002462            4\n",
       " 2020-12-04  18699.8 -0.038345            4\n",
       " 2020-12-11  18058.9 -0.011283            4\n",
       " 2020-12-18    23138  0.014593            4\n",
       " 2020-12-25  24664.8  0.039132            4\n",
       " \n",
       " [328 rows x 3 columns], 5:            adjclose    change  day_of_week\n",
       " date                                      \n",
       " 2014-09-20  408.904  0.035735            5\n",
       " 2014-09-27   399.52 -0.012128            5\n",
       " 2014-10-04  328.866 -0.085243            5\n",
       " 2014-10-11  362.299  0.002038            5\n",
       " 2014-10-18  391.442  0.020023            5\n",
       " ...             ...       ...          ...\n",
       " 2020-11-28  17717.4  0.035597            5\n",
       " 2020-12-05  19154.2  0.024303            5\n",
       " 2020-12-12  18803.7  0.041240            5\n",
       " 2020-12-19  23869.8  0.031631            5\n",
       " 2020-12-26    26437  0.071853            5\n",
       " \n",
       " [328 rows x 3 columns], 6:            adjclose    change  day_of_week\n",
       " date                                      \n",
       " 2014-09-21  398.821 -0.024659            6\n",
       " 2014-09-28  377.181 -0.055915            6\n",
       " 2014-10-05   320.51 -0.025408            6\n",
       " 2014-10-12  378.549  0.044852            6\n",
       " 2014-10-19  389.546 -0.004844            6\n",
       " ...             ...       ...          ...\n",
       " 2020-11-29  18177.5  0.025967            6\n",
       " 2020-12-06  19345.1  0.009966            6\n",
       " 2020-12-13  19142.4  0.018014            6\n",
       " 2020-12-20  23477.3 -0.016445            6\n",
       " 2020-12-27  26272.3 -0.006231            6\n",
       " \n",
       " [328 rows x 3 columns]}"
      ]
     },
     "execution_count": 48,
     "metadata": {},
     "output_type": "execute_result"
    }
   ],
   "source": [
    "testdf = {}\n",
    "for i in range(7):\n",
    "    testdf[i] = btctt[btctt.index.dayofweek == i]\n",
    "\n",
    "testdf"
   ]
  },
  {
   "cell_type": "code",
   "execution_count": 47,
   "metadata": {},
   "outputs": [
    {
     "data": {
      "text/html": [
       "<div>\n",
       "<style scoped>\n",
       "    .dataframe tbody tr th:only-of-type {\n",
       "        vertical-align: middle;\n",
       "    }\n",
       "\n",
       "    .dataframe tbody tr th {\n",
       "        vertical-align: top;\n",
       "    }\n",
       "\n",
       "    .dataframe thead th {\n",
       "        text-align: right;\n",
       "    }\n",
       "</style>\n",
       "<table border=\"1\" class=\"dataframe\">\n",
       "  <thead>\n",
       "    <tr style=\"text-align: right;\">\n",
       "      <th></th>\n",
       "      <th>0</th>\n",
       "      <th>1</th>\n",
       "      <th>2</th>\n",
       "      <th>3</th>\n",
       "      <th>4</th>\n",
       "      <th>5</th>\n",
       "      <th>6</th>\n",
       "    </tr>\n",
       "  </thead>\n",
       "  <tbody>\n",
       "    <tr>\n",
       "      <th>adjclose</th>\n",
       "      <td>(a, d, j, c, l, o, s, e)</td>\n",
       "      <td>(a, d, j, c, l, o, s, e)</td>\n",
       "      <td>(a, d, j, c, l, o, s, e)</td>\n",
       "      <td>(a, d, j, c, l, o, s, e)</td>\n",
       "      <td>(a, d, j, c, l, o, s, e)</td>\n",
       "      <td>(a, d, j, c, l, o, s, e)</td>\n",
       "      <td>(a, d, j, c, l, o, s, e)</td>\n",
       "    </tr>\n",
       "    <tr>\n",
       "      <th>change</th>\n",
       "      <td>(c, h, a, n, g, e)</td>\n",
       "      <td>(c, h, a, n, g, e)</td>\n",
       "      <td>(c, h, a, n, g, e)</td>\n",
       "      <td>(c, h, a, n, g, e)</td>\n",
       "      <td>(c, h, a, n, g, e)</td>\n",
       "      <td>(c, h, a, n, g, e)</td>\n",
       "      <td>(c, h, a, n, g, e)</td>\n",
       "    </tr>\n",
       "    <tr>\n",
       "      <th>day_of_week</th>\n",
       "      <td>(d, a, y, _, o, f, _, w, e, e, k)</td>\n",
       "      <td>(d, a, y, _, o, f, _, w, e, e, k)</td>\n",
       "      <td>(d, a, y, _, o, f, _, w, e, e, k)</td>\n",
       "      <td>(d, a, y, _, o, f, _, w, e, e, k)</td>\n",
       "      <td>(d, a, y, _, o, f, _, w, e, e, k)</td>\n",
       "      <td>(d, a, y, _, o, f, _, w, e, e, k)</td>\n",
       "      <td>(d, a, y, _, o, f, _, w, e, e, k)</td>\n",
       "    </tr>\n",
       "  </tbody>\n",
       "</table>\n",
       "</div>"
      ],
      "text/plain": [
       "                                             0  \\\n",
       "adjclose              (a, d, j, c, l, o, s, e)   \n",
       "change                      (c, h, a, n, g, e)   \n",
       "day_of_week  (d, a, y, _, o, f, _, w, e, e, k)   \n",
       "\n",
       "                                             1  \\\n",
       "adjclose              (a, d, j, c, l, o, s, e)   \n",
       "change                      (c, h, a, n, g, e)   \n",
       "day_of_week  (d, a, y, _, o, f, _, w, e, e, k)   \n",
       "\n",
       "                                             2  \\\n",
       "adjclose              (a, d, j, c, l, o, s, e)   \n",
       "change                      (c, h, a, n, g, e)   \n",
       "day_of_week  (d, a, y, _, o, f, _, w, e, e, k)   \n",
       "\n",
       "                                             3  \\\n",
       "adjclose              (a, d, j, c, l, o, s, e)   \n",
       "change                      (c, h, a, n, g, e)   \n",
       "day_of_week  (d, a, y, _, o, f, _, w, e, e, k)   \n",
       "\n",
       "                                             4  \\\n",
       "adjclose              (a, d, j, c, l, o, s, e)   \n",
       "change                      (c, h, a, n, g, e)   \n",
       "day_of_week  (d, a, y, _, o, f, _, w, e, e, k)   \n",
       "\n",
       "                                             5  \\\n",
       "adjclose              (a, d, j, c, l, o, s, e)   \n",
       "change                      (c, h, a, n, g, e)   \n",
       "day_of_week  (d, a, y, _, o, f, _, w, e, e, k)   \n",
       "\n",
       "                                             6  \n",
       "adjclose              (a, d, j, c, l, o, s, e)  \n",
       "change                      (c, h, a, n, g, e)  \n",
       "day_of_week  (d, a, y, _, o, f, _, w, e, e, k)  "
      ]
     },
     "execution_count": 47,
     "metadata": {},
     "output_type": "execute_result"
    }
   ],
   "source": [
    "testdf = pd.DataFrame(testdf, index='adjclose change day_of_week'.split())\n",
    "testdf"
   ]
  },
  {
   "cell_type": "code",
   "execution_count": 38,
   "metadata": {
    "scrolled": false
   },
   "outputs": [
    {
     "data": {
      "text/plain": [
       "<matplotlib.axes._subplots.AxesSubplot at 0x19ea9058fc8>"
      ]
     },
     "execution_count": 38,
     "metadata": {},
     "output_type": "execute_result"
    },
    {
     "data": {
      "image/png": "[encoded data removed]",
      "text/plain": [
       "<Figure size 432x288 with 1 Axes>"
      ]
     },
     "metadata": {
      "needs_background": "light"
     },
     "output_type": "display_data"
    }
   ],
   "source": [
    "btctt[['adjclose', 'day_of_week']].astype('float64').plot.box(by='day_of_week')"
   ]
  },
  {
   "cell_type": "code",
   "execution_count": null,
   "metadata": {},
   "outputs": [],
   "source": []
  }
 ],
 "metadata": {
  "kernelspec": {
   "display_name": "Python 3",
   "language": "python",
   "name": "python3"
  },
  "language_info": {
   "codemirror_mode": {
    "name": "ipython",
    "version": 3
   },
   "file_extension": ".py",
   "mimetype": "text/x-python",
   "name": "python",
   "nbconvert_exporter": "python",
   "pygments_lexer": "ipython3",
   "version": "3.7.4"
  }
 },
 "nbformat": 4,
 "nbformat_minor": 2
}
