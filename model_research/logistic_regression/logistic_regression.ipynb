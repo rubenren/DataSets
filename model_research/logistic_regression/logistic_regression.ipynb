{
 "cells": [
  {
   "cell_type": "markdown",
   "id": "3a8eb510",
   "metadata": {},
   "source": [
    "# Logistic Regression"
   ]
  },
  {
   "cell_type": "markdown",
   "id": "550014d9",
   "metadata": {},
   "source": [
    "### Testing out the results of logistic regression on just stock market data"
   ]
  },
  {
   "cell_type": "markdown",
   "id": "79bbbac4",
   "metadata": {},
   "source": [
    "The idea is to transform the stock market data into a series of binary classification tasks. I will be testing a few different tagets:\n",
    "\n",
    "- single day prediction\n",
    "- single week\n",
    "- test a differenced data\n"
   ]
  },
  {
   "cell_type": "code",
   "execution_count": 1,
   "id": "107e3353",
   "metadata": {},
   "outputs": [],
   "source": [
    "import numpy as np\n",
    "import pandas as pd\n",
    "import matplotlib.pyplot as plt\n",
    "%matplotlib inline\n",
    "import seaborn as sns"
   ]
  },
  {
   "cell_type": "code",
   "execution_count": 2,
   "id": "27da6324",
   "metadata": {},
   "outputs": [
    {
     "data": {
      "text/html": [
       "<div>\n",
       "<style scoped>\n",
       "    .dataframe tbody tr th:only-of-type {\n",
       "        vertical-align: middle;\n",
       "    }\n",
       "\n",
       "    .dataframe tbody tr th {\n",
       "        vertical-align: top;\n",
       "    }\n",
       "\n",
       "    .dataframe thead th {\n",
       "        text-align: right;\n",
       "    }\n",
       "</style>\n",
       "<table border=\"1\" class=\"dataframe\">\n",
       "  <thead>\n",
       "    <tr style=\"text-align: right;\">\n",
       "      <th></th>\n",
       "      <th>Date</th>\n",
       "      <th>Open</th>\n",
       "      <th>High</th>\n",
       "      <th>Low</th>\n",
       "      <th>Close</th>\n",
       "      <th>Adj Close</th>\n",
       "      <th>Volume</th>\n",
       "    </tr>\n",
       "  </thead>\n",
       "  <tbody>\n",
       "    <tr>\n",
       "      <th>0</th>\n",
       "      <td>1993-01-29</td>\n",
       "      <td>43.96875</td>\n",
       "      <td>43.96875</td>\n",
       "      <td>43.75000</td>\n",
       "      <td>43.93750</td>\n",
       "      <td>25.438103</td>\n",
       "      <td>1003200</td>\n",
       "    </tr>\n",
       "    <tr>\n",
       "      <th>1</th>\n",
       "      <td>1993-02-01</td>\n",
       "      <td>43.96875</td>\n",
       "      <td>44.25000</td>\n",
       "      <td>43.96875</td>\n",
       "      <td>44.25000</td>\n",
       "      <td>25.619028</td>\n",
       "      <td>480500</td>\n",
       "    </tr>\n",
       "    <tr>\n",
       "      <th>2</th>\n",
       "      <td>1993-02-02</td>\n",
       "      <td>44.21875</td>\n",
       "      <td>44.37500</td>\n",
       "      <td>44.12500</td>\n",
       "      <td>44.34375</td>\n",
       "      <td>25.673309</td>\n",
       "      <td>201300</td>\n",
       "    </tr>\n",
       "    <tr>\n",
       "      <th>3</th>\n",
       "      <td>1993-02-03</td>\n",
       "      <td>44.40625</td>\n",
       "      <td>44.84375</td>\n",
       "      <td>44.37500</td>\n",
       "      <td>44.81250</td>\n",
       "      <td>25.944679</td>\n",
       "      <td>529400</td>\n",
       "    </tr>\n",
       "    <tr>\n",
       "      <th>4</th>\n",
       "      <td>1993-02-04</td>\n",
       "      <td>44.96875</td>\n",
       "      <td>45.09375</td>\n",
       "      <td>44.46875</td>\n",
       "      <td>45.00000</td>\n",
       "      <td>26.053232</td>\n",
       "      <td>531500</td>\n",
       "    </tr>\n",
       "  </tbody>\n",
       "</table>\n",
       "</div>"
      ],
      "text/plain": [
       "         Date      Open      High       Low     Close  Adj Close   Volume\n",
       "0  1993-01-29  43.96875  43.96875  43.75000  43.93750  25.438103  1003200\n",
       "1  1993-02-01  43.96875  44.25000  43.96875  44.25000  25.619028   480500\n",
       "2  1993-02-02  44.21875  44.37500  44.12500  44.34375  25.673309   201300\n",
       "3  1993-02-03  44.40625  44.84375  44.37500  44.81250  25.944679   529400\n",
       "4  1993-02-04  44.96875  45.09375  44.46875  45.00000  26.053232   531500"
      ]
     },
     "execution_count": 2,
     "metadata": {},
     "output_type": "execute_result"
    }
   ],
   "source": [
    "# import the data\n",
    "filepath='../../data/SPY_1993-01-29_2022-08-17.csv'\n",
    "data = pd.read_csv(filepath)\n",
    "\n",
    "data.head()"
   ]
  },
  {
   "cell_type": "code",
   "execution_count": 3,
   "id": "471899e9",
   "metadata": {},
   "outputs": [
    {
     "data": {
      "image/png": "[encoded data removed]",
      "text/plain": [
       "<Figure size 640x480 with 1 Axes>"
      ]
     },
     "metadata": {},
     "output_type": "display_data"
    }
   ],
   "source": [
    "sns.lineplot(data=data['Close'].values);"
   ]
  },
  {
   "cell_type": "code",
   "execution_count": 4,
   "id": "8308d717",
   "metadata": {},
   "outputs": [
    {
     "data": {
      "text/plain": [
       "Date\n",
       "1993-01-29        NaN\n",
       "1993-02-01    0.31250\n",
       "1993-02-02    0.09375\n",
       "1993-02-03    0.46875\n",
       "1993-02-04    0.18750\n",
       "Name: Close, dtype: float64"
      ]
     },
     "execution_count": 4,
     "metadata": {},
     "output_type": "execute_result"
    }
   ],
   "source": [
    "# Creating single day labels\n",
    "diff_df = data['Close'].diff()\n",
    "diff_df.index = pd.to_datetime(data['Date'])\n",
    "diff_df.head()"
   ]
  },
  {
   "cell_type": "code",
   "execution_count": 21,
   "id": "81986172",
   "metadata": {},
   "outputs": [
    {
     "data": {
      "text/plain": [
       "Date\n",
       "2022-08-11    False\n",
       "2022-08-12     True\n",
       "2022-08-15     True\n",
       "2022-08-16     True\n",
       "2022-08-17    False\n",
       "Name: Close, dtype: bool"
      ]
     },
     "execution_count": 21,
     "metadata": {},
     "output_type": "execute_result"
    }
   ],
   "source": [
    "labels = diff_df > 0\n",
    "labels.tail()"
   ]
  },
  {
   "cell_type": "code",
   "execution_count": 22,
   "id": "fd69f615",
   "metadata": {},
   "outputs": [],
   "source": [
    "# shift the labels to fit the correct index\n",
    "labels = labels.shift(periods=-1)\n",
    "\n",
    "# drop the remaining NaN\n",
    "labels = labels.dropna().astype(float)"
   ]
  },
  {
   "cell_type": "code",
   "execution_count": 23,
   "id": "6433973e",
   "metadata": {},
   "outputs": [
    {
     "data": {
      "text/plain": [
       "Date\n",
       "2022-08-10    0.0\n",
       "2022-08-11    1.0\n",
       "2022-08-12    1.0\n",
       "2022-08-15    1.0\n",
       "2022-08-16    0.0\n",
       "Name: Close, dtype: float64"
      ]
     },
     "execution_count": 23,
     "metadata": {},
     "output_type": "execute_result"
    }
   ],
   "source": [
    "labels.tail()"
   ]
  },
  {
   "cell_type": "code",
   "execution_count": 24,
   "id": "afbd7df4",
   "metadata": {},
   "outputs": [],
   "source": [
    "# method to split the sequences into smaller portions for regression\n",
    "def split_sequences(sequence, window_size):\n",
    "    X = []\n",
    "    for i in range(len(sequence)):\n",
    "        end_ix = i + window_size\n",
    "        if end_ix > len(sequence) - 1:\n",
    "            break\n",
    "        seq = sequence[i:end_ix]\n",
    "        X.append(seq)\n",
    "    return np.array(X)"
   ]
  },
  {
   "cell_type": "code",
   "execution_count": 34,
   "id": "39294f7b",
   "metadata": {},
   "outputs": [],
   "source": [
    "from sklearn.model_selection import train_test_split\n",
    "\n",
    "window_size = 5\n",
    "X = split_sequences(data['Close'], window_size=window_size)\n",
    "X = X[:-1]\n",
    "y = labels[5:]\n",
    "\n",
    "# split the data\n",
    "X_train, X_test, y_train, y_test = train_test_split(X, y.values, random_state=42)"
   ]
  },
  {
   "cell_type": "code",
   "execution_count": 35,
   "id": "0dbf8af1",
   "metadata": {},
   "outputs": [
    {
     "name": "stdout",
     "output_type": "stream",
     "text": [
      "5577 5577\n"
     ]
    }
   ],
   "source": [
    "print(len(X_train), len(y_train))"
   ]
  },
  {
   "cell_type": "code",
   "execution_count": 36,
   "id": "c164062d",
   "metadata": {},
   "outputs": [
    {
     "name": "stdout",
     "output_type": "stream",
     "text": [
      "0.5228617536309844\n"
     ]
    }
   ],
   "source": [
    "from sklearn.linear_model import LogisticRegression\n",
    "from sklearn.metrics import accuracy_score\n",
    "\n",
    "\n",
    "\n",
    "clf = LogisticRegression(random_state=42).fit(X_train, y_train)\n",
    "print(accuracy_score(clf.predict(X_test), y_test))"
   ]
  },
  {
   "cell_type": "code",
   "execution_count": 38,
   "id": "c1f77a07",
   "metadata": {},
   "outputs": [
    {
     "data": {
      "text/plain": [
       "0         NaN\n",
       "1    0.007112\n",
       "2    0.002119\n",
       "3    0.010571\n",
       "4    0.004184\n",
       "Name: Close, dtype: float64"
      ]
     },
     "execution_count": 38,
     "metadata": {},
     "output_type": "execute_result"
    }
   ],
   "source": [
    "# using regular numbers did not work, going to normalize the inputs\n",
    "percents = data['Close'].pct_change(periods=1)\n",
    "percents.head()"
   ]
  },
  {
   "cell_type": "code",
   "execution_count": 41,
   "id": "b42ea205",
   "metadata": {},
   "outputs": [],
   "source": [
    "window_size = 5\n",
    "X = split_sequences(percents, window_size=window_size)\n",
    "X = X[1:-1]\n",
    "y = labels[6:]\n",
    "\n",
    "X_train, X_test, y_train, y_test = train_test_split(X, y.values, random_state=42)"
   ]
  },
  {
   "cell_type": "code",
   "execution_count": 42,
   "id": "a77d6b90",
   "metadata": {},
   "outputs": [
    {
     "name": "stdout",
     "output_type": "stream",
     "text": [
      "7435 7435\n"
     ]
    }
   ],
   "source": [
    "print(len(X), len(y))"
   ]
  },
  {
   "cell_type": "code",
   "execution_count": 43,
   "id": "228a4f27",
   "metadata": {},
   "outputs": [
    {
     "name": "stdout",
     "output_type": "stream",
     "text": [
      "0.5309306078536847\n"
     ]
    }
   ],
   "source": [
    "clf = LogisticRegression(random_state=42).fit(X_train, y_train)\n",
    "print(accuracy_score(clf.predict(X_test), y_test))"
   ]
  },
  {
   "cell_type": "markdown",
   "id": "f94d3dd5",
   "metadata": {},
   "source": [
    "Still not great, doing some model tuning"
   ]
  },
  {
   "cell_type": "code",
   "execution_count": 45,
   "id": "ee7c6326",
   "metadata": {},
   "outputs": [
    {
     "name": "stderr",
     "output_type": "stream",
     "text": [
      "C:\\Users\\jr101\\AppData\\Local\\Programs\\Python\\Python37\\lib\\site-packages\\sklearn\\model_selection\\_search.py:296: UserWarning: The total space of parameters 6 is smaller than n_iter=10. Running 6 iterations. For exhaustive searches, use GridSearchCV.\n",
      "  UserWarning,\n"
     ]
    },
    {
     "name": "stdout",
     "output_type": "stream",
     "text": [
      "Best: 0.535868 using {'C': 0.001}\n",
      "0.5309306078536847\n"
     ]
    }
   ],
   "source": [
    "from sklearn.model_selection import RandomizedSearchCV\n",
    "\n",
    "params = {'C':[.001, .01, .1, 1, 10, 100]}\n",
    "\n",
    "clf = LogisticRegression()\n",
    "selector = RandomizedSearchCV(estimator=clf, param_distributions=params)\n",
    "\n",
    "result = selector.fit(X_train, y_train)\n",
    "print('Best: %f using %s' % (result.best_score_, result.best_params_))\n",
    "best_model = result.best_estimator_\n",
    "print(accuracy_score(best_model.predict(X_test), y_test))"
   ]
  },
  {
   "cell_type": "code",
   "execution_count": null,
   "id": "a0a96d01",
   "metadata": {},
   "outputs": [],
   "source": []
  }
 ],
 "metadata": {
  "kernelspec": {
   "display_name": "Python 3 (ipykernel)",
   "language": "python",
   "name": "python3"
  },
  "language_info": {
   "codemirror_mode": {
    "name": "ipython",
    "version": 3
   },
   "file_extension": ".py",
   "mimetype": "text/x-python",
   "name": "python",
   "nbconvert_exporter": "python",
   "pygments_lexer": "ipython3",
   "version": "3.7.4"
  }
 },
 "nbformat": 4,
 "nbformat_minor": 5
}
