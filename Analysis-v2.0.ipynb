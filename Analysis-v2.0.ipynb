{
 "cells": [
  {
   "cell_type": "code",
   "execution_count": 1,
   "metadata": {},
   "outputs": [],
   "source": [
    "import pandas as pd\n",
    "import numpy as np\n",
    "import matplotlib.pyplot as plt\n",
    "%matplotlib inline"
   ]
  },
  {
   "cell_type": "markdown",
   "metadata": {},
   "source": [
    "# Data Wrangling"
   ]
  },
  {
   "cell_type": "code",
   "execution_count": 2,
   "metadata": {},
   "outputs": [
    {
     "name": "stdout",
     "output_type": "stream",
     "text": [
      "<class 'pandas.core.frame.DataFrame'>\n",
      "RangeIndex: 5672 entries, 0 to 5671\n",
      "Data columns (total 6 columns):\n",
      " #   Column     Non-Null Count  Dtype  \n",
      "---  ------     --------------  -----  \n",
      " 0   date       5672 non-null   object \n",
      " 1   1. open    5672 non-null   float64\n",
      " 2   2. high    5672 non-null   float64\n",
      " 3   3. low     5672 non-null   float64\n",
      " 4   4. close   5672 non-null   float64\n",
      " 5   5. volume  5672 non-null   float64\n",
      "dtypes: float64(5), object(1)\n",
      "memory usage: 266.0+ KB\n"
     ]
    }
   ],
   "source": [
    "spy_data = pd.read_csv('data/SPY_1999-11-01_2022-05-16.csv')\n",
    "spy_data.info()"
   ]
  },
  {
   "cell_type": "code",
   "execution_count": 3,
   "metadata": {},
   "outputs": [
    {
     "data": {
      "text/html": [
       "<div>\n",
       "<style scoped>\n",
       "    .dataframe tbody tr th:only-of-type {\n",
       "        vertical-align: middle;\n",
       "    }\n",
       "\n",
       "    .dataframe tbody tr th {\n",
       "        vertical-align: top;\n",
       "    }\n",
       "\n",
       "    .dataframe thead th {\n",
       "        text-align: right;\n",
       "    }\n",
       "</style>\n",
       "<table border=\"1\" class=\"dataframe\">\n",
       "  <thead>\n",
       "    <tr style=\"text-align: right;\">\n",
       "      <th></th>\n",
       "      <th>date</th>\n",
       "      <th>1. open</th>\n",
       "      <th>2. high</th>\n",
       "      <th>3. low</th>\n",
       "      <th>4. close</th>\n",
       "      <th>5. volume</th>\n",
       "    </tr>\n",
       "  </thead>\n",
       "  <tbody>\n",
       "    <tr>\n",
       "      <th>0</th>\n",
       "      <td>2022-05-16</td>\n",
       "      <td>399.98</td>\n",
       "      <td>403.97</td>\n",
       "      <td>397.60</td>\n",
       "      <td>400.09</td>\n",
       "      <td>76644007.0</td>\n",
       "    </tr>\n",
       "    <tr>\n",
       "      <th>1</th>\n",
       "      <td>2022-05-13</td>\n",
       "      <td>396.71</td>\n",
       "      <td>403.18</td>\n",
       "      <td>395.61</td>\n",
       "      <td>401.72</td>\n",
       "      <td>104174421.0</td>\n",
       "    </tr>\n",
       "    <tr>\n",
       "      <th>2</th>\n",
       "      <td>2022-05-12</td>\n",
       "      <td>389.37</td>\n",
       "      <td>395.80</td>\n",
       "      <td>385.15</td>\n",
       "      <td>392.34</td>\n",
       "      <td>125090753.0</td>\n",
       "    </tr>\n",
       "    <tr>\n",
       "      <th>3</th>\n",
       "      <td>2022-05-11</td>\n",
       "      <td>398.07</td>\n",
       "      <td>404.04</td>\n",
       "      <td>391.96</td>\n",
       "      <td>392.75</td>\n",
       "      <td>142360992.0</td>\n",
       "    </tr>\n",
       "    <tr>\n",
       "      <th>4</th>\n",
       "      <td>2022-05-10</td>\n",
       "      <td>404.49</td>\n",
       "      <td>406.08</td>\n",
       "      <td>394.82</td>\n",
       "      <td>399.09</td>\n",
       "      <td>132497200.0</td>\n",
       "    </tr>\n",
       "  </tbody>\n",
       "</table>\n",
       "</div>"
      ],
      "text/plain": [
       "         date  1. open  2. high  3. low  4. close    5. volume\n",
       "0  2022-05-16   399.98   403.97  397.60    400.09   76644007.0\n",
       "1  2022-05-13   396.71   403.18  395.61    401.72  104174421.0\n",
       "2  2022-05-12   389.37   395.80  385.15    392.34  125090753.0\n",
       "3  2022-05-11   398.07   404.04  391.96    392.75  142360992.0\n",
       "4  2022-05-10   404.49   406.08  394.82    399.09  132497200.0"
      ]
     },
     "execution_count": 3,
     "metadata": {},
     "output_type": "execute_result"
    }
   ],
   "source": [
    "spy_data.head()"
   ]
  },
  {
   "cell_type": "code",
   "execution_count": 4,
   "metadata": {},
   "outputs": [
    {
     "data": {
      "text/html": [
       "<div>\n",
       "<style scoped>\n",
       "    .dataframe tbody tr th:only-of-type {\n",
       "        vertical-align: middle;\n",
       "    }\n",
       "\n",
       "    .dataframe tbody tr th {\n",
       "        vertical-align: top;\n",
       "    }\n",
       "\n",
       "    .dataframe thead th {\n",
       "        text-align: right;\n",
       "    }\n",
       "</style>\n",
       "<table border=\"1\" class=\"dataframe\">\n",
       "  <thead>\n",
       "    <tr style=\"text-align: right;\">\n",
       "      <th></th>\n",
       "      <th>date</th>\n",
       "      <th>1. open</th>\n",
       "      <th>2. high</th>\n",
       "      <th>3. low</th>\n",
       "      <th>4. close</th>\n",
       "      <th>5. volume</th>\n",
       "    </tr>\n",
       "    <tr>\n",
       "      <th>date</th>\n",
       "      <th></th>\n",
       "      <th></th>\n",
       "      <th></th>\n",
       "      <th></th>\n",
       "      <th></th>\n",
       "      <th></th>\n",
       "    </tr>\n",
       "  </thead>\n",
       "  <tbody>\n",
       "    <tr>\n",
       "      <th>2022-05-16</th>\n",
       "      <td>2022-05-16</td>\n",
       "      <td>399.98</td>\n",
       "      <td>403.97</td>\n",
       "      <td>397.60</td>\n",
       "      <td>400.09</td>\n",
       "      <td>76644007.0</td>\n",
       "    </tr>\n",
       "    <tr>\n",
       "      <th>2022-05-13</th>\n",
       "      <td>2022-05-13</td>\n",
       "      <td>396.71</td>\n",
       "      <td>403.18</td>\n",
       "      <td>395.61</td>\n",
       "      <td>401.72</td>\n",
       "      <td>104174421.0</td>\n",
       "    </tr>\n",
       "    <tr>\n",
       "      <th>2022-05-12</th>\n",
       "      <td>2022-05-12</td>\n",
       "      <td>389.37</td>\n",
       "      <td>395.80</td>\n",
       "      <td>385.15</td>\n",
       "      <td>392.34</td>\n",
       "      <td>125090753.0</td>\n",
       "    </tr>\n",
       "    <tr>\n",
       "      <th>2022-05-11</th>\n",
       "      <td>2022-05-11</td>\n",
       "      <td>398.07</td>\n",
       "      <td>404.04</td>\n",
       "      <td>391.96</td>\n",
       "      <td>392.75</td>\n",
       "      <td>142360992.0</td>\n",
       "    </tr>\n",
       "    <tr>\n",
       "      <th>2022-05-10</th>\n",
       "      <td>2022-05-10</td>\n",
       "      <td>404.49</td>\n",
       "      <td>406.08</td>\n",
       "      <td>394.82</td>\n",
       "      <td>399.09</td>\n",
       "      <td>132497200.0</td>\n",
       "    </tr>\n",
       "  </tbody>\n",
       "</table>\n",
       "</div>"
      ],
      "text/plain": [
       "                  date  1. open  2. high  3. low  4. close    5. volume\n",
       "date                                                                   \n",
       "2022-05-16  2022-05-16   399.98   403.97  397.60    400.09   76644007.0\n",
       "2022-05-13  2022-05-13   396.71   403.18  395.61    401.72  104174421.0\n",
       "2022-05-12  2022-05-12   389.37   395.80  385.15    392.34  125090753.0\n",
       "2022-05-11  2022-05-11   398.07   404.04  391.96    392.75  142360992.0\n",
       "2022-05-10  2022-05-10   404.49   406.08  394.82    399.09  132497200.0"
      ]
     },
     "execution_count": 4,
     "metadata": {},
     "output_type": "execute_result"
    }
   ],
   "source": [
    "spy_data.index = pd.to_datetime(spy_data['date'])\n",
    "spy_data.head()"
   ]
  },
  {
   "cell_type": "code",
   "execution_count": 5,
   "metadata": {},
   "outputs": [
    {
     "data": {
      "text/plain": [
       "Index(['date', 'open', 'high', 'low', 'close', 'volume'], dtype='object')"
      ]
     },
     "execution_count": 5,
     "metadata": {},
     "output_type": "execute_result"
    }
   ],
   "source": [
    "# minor cleaning of data\n",
    "spy_data = spy_data.rename(columns={\n",
    "    'date':'date',\n",
    "    '1. open':'open',\n",
    "    '2. high':'high',\n",
    "    '3. low':'low',\n",
    "    '4. close':'close',\n",
    "    '5. volume':'volume',\n",
    "})\n",
    "spy_data.keys()"
   ]
  },
  {
   "cell_type": "code",
   "execution_count": 6,
   "metadata": {},
   "outputs": [
    {
     "name": "stdout",
     "output_type": "stream",
     "text": [
      "<class 'pandas.core.frame.DataFrame'>\n",
      "RangeIndex: 1007 entries, 0 to 1006\n",
      "Data columns (total 3 columns):\n",
      " #   Column     Non-Null Count  Dtype \n",
      "---  ------     --------------  ----- \n",
      " 0   title      1007 non-null   object\n",
      " 1   publisher  1007 non-null   object\n",
      " 2   date       1007 non-null   object\n",
      "dtypes: object(3)\n",
      "memory usage: 23.7+ KB\n"
     ]
    }
   ],
   "source": [
    "spy_headlines = pd.read_json('data/headlines-SPY.json')\n",
    "spy_headlines.info()"
   ]
  },
  {
   "cell_type": "code",
   "execution_count": 7,
   "metadata": {},
   "outputs": [
    {
     "data": {
      "text/html": [
       "<div>\n",
       "<style scoped>\n",
       "    .dataframe tbody tr th:only-of-type {\n",
       "        vertical-align: middle;\n",
       "    }\n",
       "\n",
       "    .dataframe tbody tr th {\n",
       "        vertical-align: top;\n",
       "    }\n",
       "\n",
       "    .dataframe thead th {\n",
       "        text-align: right;\n",
       "    }\n",
       "</style>\n",
       "<table border=\"1\" class=\"dataframe\">\n",
       "  <thead>\n",
       "    <tr style=\"text-align: right;\">\n",
       "      <th></th>\n",
       "      <th>title</th>\n",
       "      <th>publisher</th>\n",
       "      <th>date</th>\n",
       "    </tr>\n",
       "  </thead>\n",
       "  <tbody>\n",
       "    <tr>\n",
       "      <th>0</th>\n",
       "      <td>5 Top Strategists Discuss Near-term Outlook fo...</td>\n",
       "      <td>By Investing.com</td>\n",
       "      <td>- 8 hours ago</td>\n",
       "    </tr>\n",
       "    <tr>\n",
       "      <th>1</th>\n",
       "      <td>'The Price is Wrong': S&amp;P 500 Could Drop to 34...</td>\n",
       "      <td>By Investing.com</td>\n",
       "      <td>- 8 hours ago</td>\n",
       "    </tr>\n",
       "    <tr>\n",
       "      <th>2</th>\n",
       "      <td>'Exodus From Wall Street', 'Crypto Implosion':...</td>\n",
       "      <td>By Investing.com</td>\n",
       "      <td>- May 13, 2022</td>\n",
       "    </tr>\n",
       "    <tr>\n",
       "      <th>3</th>\n",
       "      <td>More Buying of the Dip, Bank of America's Clie...</td>\n",
       "      <td>By Investing.com</td>\n",
       "      <td>- May 10, 2022</td>\n",
       "    </tr>\n",
       "    <tr>\n",
       "      <th>4</th>\n",
       "      <td>'Paralysis Rather Than Panic Best Describes In...</td>\n",
       "      <td>By Investing.com</td>\n",
       "      <td>- May 06, 2022</td>\n",
       "    </tr>\n",
       "  </tbody>\n",
       "</table>\n",
       "</div>"
      ],
      "text/plain": [
       "                                               title         publisher  \\\n",
       "0  5 Top Strategists Discuss Near-term Outlook fo...  By Investing.com   \n",
       "1  'The Price is Wrong': S&P 500 Could Drop to 34...  By Investing.com   \n",
       "2  'Exodus From Wall Street', 'Crypto Implosion':...  By Investing.com   \n",
       "3  More Buying of the Dip, Bank of America's Clie...  By Investing.com   \n",
       "4  'Paralysis Rather Than Panic Best Describes In...  By Investing.com   \n",
       "\n",
       "              date  \n",
       "0    - 8 hours ago  \n",
       "1    - 8 hours ago  \n",
       "2   - May 13, 2022  \n",
       "3   - May 10, 2022  \n",
       "4   - May 06, 2022  "
      ]
     },
     "execution_count": 7,
     "metadata": {},
     "output_type": "execute_result"
    }
   ],
   "source": [
    "spy_headlines.head()"
   ]
  },
  {
   "cell_type": "code",
   "execution_count": 8,
   "metadata": {},
   "outputs": [
    {
     "data": {
      "text/plain": [
       "Reuters          506\n",
       "Investing.com    483\n",
       "Bloomberg         18\n",
       "Name: publisher, dtype: int64"
      ]
     },
     "execution_count": 8,
     "metadata": {},
     "output_type": "execute_result"
    }
   ],
   "source": [
    "spy_headlines['publisher'].apply(lambda x: x[3:]).value_counts()\n",
    "# Might need to look for authors as it might provide better insights"
   ]
  },
  {
   "cell_type": "code",
   "execution_count": 9,
   "metadata": {},
   "outputs": [],
   "source": [
    "# Doing a bit of cleaning\n",
    "spy_headlines['publisher'] = spy_headlines['publisher'].apply(lambda x: x[3:])"
   ]
  },
  {
   "cell_type": "code",
   "execution_count": 10,
   "metadata": {},
   "outputs": [],
   "source": [
    "spy_headlines.date = spy_headlines.date.apply(lambda x: x[3:])"
   ]
  },
  {
   "cell_type": "code",
   "execution_count": 11,
   "metadata": {},
   "outputs": [],
   "source": [
    "spy_headlines.date[0] = 'May 16, 2022'\n",
    "spy_headlines.date[1] = 'May 16, 2022'"
   ]
  },
  {
   "cell_type": "code",
   "execution_count": 12,
   "metadata": {},
   "outputs": [
    {
     "data": {
      "text/html": [
       "<div>\n",
       "<style scoped>\n",
       "    .dataframe tbody tr th:only-of-type {\n",
       "        vertical-align: middle;\n",
       "    }\n",
       "\n",
       "    .dataframe tbody tr th {\n",
       "        vertical-align: top;\n",
       "    }\n",
       "\n",
       "    .dataframe thead th {\n",
       "        text-align: right;\n",
       "    }\n",
       "</style>\n",
       "<table border=\"1\" class=\"dataframe\">\n",
       "  <thead>\n",
       "    <tr style=\"text-align: right;\">\n",
       "      <th></th>\n",
       "      <th>title</th>\n",
       "      <th>publisher</th>\n",
       "      <th>date</th>\n",
       "    </tr>\n",
       "  </thead>\n",
       "  <tbody>\n",
       "    <tr>\n",
       "      <th>0</th>\n",
       "      <td>5 Top Strategists Discuss Near-term Outlook fo...</td>\n",
       "      <td>Investing.com</td>\n",
       "      <td>May 16, 2022</td>\n",
       "    </tr>\n",
       "    <tr>\n",
       "      <th>1</th>\n",
       "      <td>'The Price is Wrong': S&amp;P 500 Could Drop to 34...</td>\n",
       "      <td>Investing.com</td>\n",
       "      <td>May 16, 2022</td>\n",
       "    </tr>\n",
       "    <tr>\n",
       "      <th>2</th>\n",
       "      <td>'Exodus From Wall Street', 'Crypto Implosion':...</td>\n",
       "      <td>Investing.com</td>\n",
       "      <td>May 13, 2022</td>\n",
       "    </tr>\n",
       "    <tr>\n",
       "      <th>3</th>\n",
       "      <td>More Buying of the Dip, Bank of America's Clie...</td>\n",
       "      <td>Investing.com</td>\n",
       "      <td>May 10, 2022</td>\n",
       "    </tr>\n",
       "    <tr>\n",
       "      <th>4</th>\n",
       "      <td>'Paralysis Rather Than Panic Best Describes In...</td>\n",
       "      <td>Investing.com</td>\n",
       "      <td>May 06, 2022</td>\n",
       "    </tr>\n",
       "  </tbody>\n",
       "</table>\n",
       "</div>"
      ],
      "text/plain": [
       "                                               title      publisher  \\\n",
       "0  5 Top Strategists Discuss Near-term Outlook fo...  Investing.com   \n",
       "1  'The Price is Wrong': S&P 500 Could Drop to 34...  Investing.com   \n",
       "2  'Exodus From Wall Street', 'Crypto Implosion':...  Investing.com   \n",
       "3  More Buying of the Dip, Bank of America's Clie...  Investing.com   \n",
       "4  'Paralysis Rather Than Panic Best Describes In...  Investing.com   \n",
       "\n",
       "           date  \n",
       "0  May 16, 2022  \n",
       "1  May 16, 2022  \n",
       "2  May 13, 2022  \n",
       "3  May 10, 2022  \n",
       "4  May 06, 2022  "
      ]
     },
     "execution_count": 12,
     "metadata": {},
     "output_type": "execute_result"
    }
   ],
   "source": [
    "spy_headlines.head()"
   ]
  },
  {
   "cell_type": "code",
   "execution_count": 13,
   "metadata": {
    "scrolled": true
   },
   "outputs": [
    {
     "data": {
      "text/plain": [
       "title        0\n",
       "publisher    0\n",
       "date         0\n",
       "dtype: int64"
      ]
     },
     "execution_count": 13,
     "metadata": {},
     "output_type": "execute_result"
    }
   ],
   "source": [
    "# Check for null values in the dataframe\n",
    "spy_headlines.isnull().sum()"
   ]
  },
  {
   "cell_type": "code",
   "execution_count": 14,
   "metadata": {},
   "outputs": [
    {
     "data": {
      "text/plain": [
       "U.S. stocks mixed at close of trade; Dow Jones Industrial Average down 0.62%         3\n",
       "U.S. stocks mixed at close of trade; Dow Jones Industrial Average up 0.13%           3\n",
       "U.S. stocks lower at close of trade; Dow Jones Industrial Average down 0.27%         2\n",
       "Column: The corporate Taxman cometh - Mike Dolan                                     2\n",
       "U.S. stocks higher at close of trade; Dow Jones Industrial Average up 0.07%          2\n",
       "Value, small-cap funds outperform in first quarter as U.S. inflation worries rise    2\n",
       "Quarter-end rebalancing could present headwinds for Wall Street                      2\n",
       "U.S. stocks higher at close of trade; Dow Jones Industrial Average up 0.58%          2\n",
       "U.S. stocks lower at close of trade; Dow Jones Industrial Average down 0.31%         2\n",
       "U.S. stocks higher at close of trade; Dow Jones Industrial Average up 1.13%          2\n",
       "Name: title, dtype: int64"
      ]
     },
     "execution_count": 14,
     "metadata": {},
     "output_type": "execute_result"
    }
   ],
   "source": [
    "# Check for possible duplicate titles, or more than one instance of an empty string\n",
    "spy_headlines.title.value_counts().head(10)"
   ]
  },
  {
   "cell_type": "code",
   "execution_count": 15,
   "metadata": {},
   "outputs": [],
   "source": [
    "# save the relatively clean data\n",
    "spy_headlines.to_csv('cleaned/spy_headlines_5-22-22.csv')"
   ]
  },
  {
   "cell_type": "markdown",
   "metadata": {},
   "source": [
    "### Cutting down the data from kaggle"
   ]
  },
  {
   "cell_type": "code",
   "execution_count": 16,
   "metadata": {},
   "outputs": [
    {
     "data": {
      "text/html": [
       "<div>\n",
       "<style scoped>\n",
       "    .dataframe tbody tr th:only-of-type {\n",
       "        vertical-align: middle;\n",
       "    }\n",
       "\n",
       "    .dataframe tbody tr th {\n",
       "        vertical-align: top;\n",
       "    }\n",
       "\n",
       "    .dataframe thead th {\n",
       "        text-align: right;\n",
       "    }\n",
       "</style>\n",
       "<table border=\"1\" class=\"dataframe\">\n",
       "  <thead>\n",
       "    <tr style=\"text-align: right;\">\n",
       "      <th></th>\n",
       "      <th>id</th>\n",
       "      <th>ticker</th>\n",
       "      <th>title</th>\n",
       "      <th>category</th>\n",
       "      <th>content</th>\n",
       "      <th>release_date</th>\n",
       "      <th>provider</th>\n",
       "      <th>url</th>\n",
       "      <th>article_id</th>\n",
       "    </tr>\n",
       "  </thead>\n",
       "  <tbody>\n",
       "    <tr>\n",
       "      <th>0</th>\n",
       "      <td>221515</td>\n",
       "      <td>NIO</td>\n",
       "      <td>Why Shares of Chinese Electric Car Maker NIO A...</td>\n",
       "      <td>news</td>\n",
       "      <td>What s happening\\nShares of Chinese electric c...</td>\n",
       "      <td>2020-01-15</td>\n",
       "      <td>The Motley Fool</td>\n",
       "      <td>https://invst.ly/pigqi</td>\n",
       "      <td>2060327</td>\n",
       "    </tr>\n",
       "    <tr>\n",
       "      <th>1</th>\n",
       "      <td>221516</td>\n",
       "      <td>NIO</td>\n",
       "      <td>NIO only consumer gainer  Workhorse Group amon...</td>\n",
       "      <td>news</td>\n",
       "      <td>Gainers  NIO  NYSE NIO   7  \\nLosers  MGP Ingr...</td>\n",
       "      <td>2020-01-18</td>\n",
       "      <td>Seeking Alpha</td>\n",
       "      <td>https://invst.ly/pje9c</td>\n",
       "      <td>2062196</td>\n",
       "    </tr>\n",
       "    <tr>\n",
       "      <th>2</th>\n",
       "      <td>221517</td>\n",
       "      <td>NIO</td>\n",
       "      <td>NIO leads consumer gainers  Beyond Meat and Ma...</td>\n",
       "      <td>news</td>\n",
       "      <td>Gainers  NIO  NYSE NIO   14   Village Farms In...</td>\n",
       "      <td>2020-01-15</td>\n",
       "      <td>Seeking Alpha</td>\n",
       "      <td>https://invst.ly/pifmv</td>\n",
       "      <td>2060249</td>\n",
       "    </tr>\n",
       "    <tr>\n",
       "      <th>3</th>\n",
       "      <td>221518</td>\n",
       "      <td>NIO</td>\n",
       "      <td>NIO  NVAX among premarket gainers</td>\n",
       "      <td>news</td>\n",
       "      <td>Cemtrex  NASDAQ CETX   85  after FY results \\n...</td>\n",
       "      <td>2020-01-15</td>\n",
       "      <td>Seeking Alpha</td>\n",
       "      <td>https://invst.ly/picu8</td>\n",
       "      <td>2060039</td>\n",
       "    </tr>\n",
       "    <tr>\n",
       "      <th>4</th>\n",
       "      <td>221519</td>\n",
       "      <td>NIO</td>\n",
       "      <td>PLUG  NIO among premarket gainers</td>\n",
       "      <td>news</td>\n",
       "      <td>aTyr Pharma  NASDAQ LIFE   63  on Kyorin Pharm...</td>\n",
       "      <td>2020-01-06</td>\n",
       "      <td>Seeking Alpha</td>\n",
       "      <td>https://seekingalpha.com/news/3529772-plug-nio...</td>\n",
       "      <td>2053096</td>\n",
       "    </tr>\n",
       "  </tbody>\n",
       "</table>\n",
       "</div>"
      ],
      "text/plain": [
       "       id ticker                                              title category  \\\n",
       "0  221515    NIO  Why Shares of Chinese Electric Car Maker NIO A...     news   \n",
       "1  221516    NIO  NIO only consumer gainer  Workhorse Group amon...     news   \n",
       "2  221517    NIO  NIO leads consumer gainers  Beyond Meat and Ma...     news   \n",
       "3  221518    NIO                  NIO  NVAX among premarket gainers     news   \n",
       "4  221519    NIO                  PLUG  NIO among premarket gainers     news   \n",
       "\n",
       "                                             content release_date  \\\n",
       "0  What s happening\\nShares of Chinese electric c...   2020-01-15   \n",
       "1  Gainers  NIO  NYSE NIO   7  \\nLosers  MGP Ingr...   2020-01-18   \n",
       "2  Gainers  NIO  NYSE NIO   14   Village Farms In...   2020-01-15   \n",
       "3  Cemtrex  NASDAQ CETX   85  after FY results \\n...   2020-01-15   \n",
       "4  aTyr Pharma  NASDAQ LIFE   63  on Kyorin Pharm...   2020-01-06   \n",
       "\n",
       "          provider                                                url  \\\n",
       "0  The Motley Fool                             https://invst.ly/pigqi   \n",
       "1    Seeking Alpha                             https://invst.ly/pje9c   \n",
       "2    Seeking Alpha                             https://invst.ly/pifmv   \n",
       "3    Seeking Alpha                             https://invst.ly/picu8   \n",
       "4    Seeking Alpha  https://seekingalpha.com/news/3529772-plug-nio...   \n",
       "\n",
       "   article_id  \n",
       "0     2060327  \n",
       "1     2062196  \n",
       "2     2060249  \n",
       "3     2060039  \n",
       "4     2053096  "
      ]
     },
     "execution_count": 16,
     "metadata": {},
     "output_type": "execute_result"
    }
   ],
   "source": [
    "df = pd.read_csv('data/archive.zip')\n",
    "df.head()"
   ]
  },
  {
   "cell_type": "code",
   "execution_count": 17,
   "metadata": {},
   "outputs": [
    {
     "data": {
      "text/plain": [
       "AAPL     20231\n",
       "MSFT      8110\n",
       "BAC       7409\n",
       "AMZN      6330\n",
       "NWSA      5914\n",
       "BA        5879\n",
       "GOOGL     5171\n",
       "GS        4513\n",
       "TSLA      4283\n",
       "NFLX      3806\n",
       "TGT       3689\n",
       "INTC      3188\n",
       "DIS       2875\n",
       "XOM       2831\n",
       "JPM       2600\n",
       "MS        2498\n",
       "GM        2089\n",
       "C         2082\n",
       "GE        2045\n",
       "MU        1927\n",
       "TM        1822\n",
       "WMB       1482\n",
       "KO        1367\n",
       "WFC       1359\n",
       "WMT       1267\n",
       "Name: ticker, dtype: int64"
      ]
     },
     "execution_count": 17,
     "metadata": {},
     "output_type": "execute_result"
    }
   ],
   "source": [
    "# Grab the 25 most talked about\n",
    "most_popular = df.ticker.value_counts()\n",
    "most_popular = most_popular.head(25)\n",
    "most_popular"
   ]
  },
  {
   "cell_type": "code",
   "execution_count": 18,
   "metadata": {},
   "outputs": [
    {
     "name": "stdout",
     "output_type": "stream",
     "text": [
      "Original: 221513\n",
      "Cut Down: 104767\n"
     ]
    }
   ],
   "source": [
    "to_save = df[df.ticker.isin(most_popular.keys())]\n",
    "print('Original:',len(df))\n",
    "print('Cut Down:', len(to_save))"
   ]
  },
  {
   "cell_type": "code",
   "execution_count": 19,
   "metadata": {},
   "outputs": [
    {
     "data": {
      "text/html": [
       "<div>\n",
       "<style scoped>\n",
       "    .dataframe tbody tr th:only-of-type {\n",
       "        vertical-align: middle;\n",
       "    }\n",
       "\n",
       "    .dataframe tbody tr th {\n",
       "        vertical-align: top;\n",
       "    }\n",
       "\n",
       "    .dataframe thead th {\n",
       "        text-align: right;\n",
       "    }\n",
       "</style>\n",
       "<table border=\"1\" class=\"dataframe\">\n",
       "  <thead>\n",
       "    <tr style=\"text-align: right;\">\n",
       "      <th></th>\n",
       "      <th>id</th>\n",
       "      <th>ticker</th>\n",
       "      <th>title</th>\n",
       "      <th>category</th>\n",
       "      <th>content</th>\n",
       "      <th>release_date</th>\n",
       "      <th>provider</th>\n",
       "      <th>url</th>\n",
       "      <th>article_id</th>\n",
       "    </tr>\n",
       "  </thead>\n",
       "  <tbody>\n",
       "    <tr>\n",
       "      <th>1302</th>\n",
       "      <td>222817</td>\n",
       "      <td>INTC</td>\n",
       "      <td>Intel  INTC  To Post Q4 Earnings  DCG   CCG In...</td>\n",
       "      <td>opinion</td>\n",
       "      <td>Intel   NASDAQ INTC   is scheduled to report f...</td>\n",
       "      <td>2020-01-20</td>\n",
       "      <td>Zacks Investment Research</td>\n",
       "      <td>https://www.investing.com/analysis/intel-intc-...</td>\n",
       "      <td>200500288</td>\n",
       "    </tr>\n",
       "    <tr>\n",
       "      <th>1303</th>\n",
       "      <td>222818</td>\n",
       "      <td>INTC</td>\n",
       "      <td>Stocks Jump About 2  This Week On Trade Deals ...</td>\n",
       "      <td>opinion</td>\n",
       "      <td>The major indices just finished another positi...</td>\n",
       "      <td>2020-01-20</td>\n",
       "      <td>Zacks Investment Research</td>\n",
       "      <td>https://www.investing.com/analysis/stocks-jump...</td>\n",
       "      <td>200500165</td>\n",
       "    </tr>\n",
       "    <tr>\n",
       "      <th>1304</th>\n",
       "      <td>222819</td>\n",
       "      <td>INTC</td>\n",
       "      <td>Apple Partner Pegatron Plans New Facilities In...</td>\n",
       "      <td>opinion</td>\n",
       "      <td>Apple s   NASDAQ AAPL   assembly partner  Pega...</td>\n",
       "      <td>2020-01-20</td>\n",
       "      <td>Zacks Investment Research</td>\n",
       "      <td>https://www.investing.com/analysis/apple-partn...</td>\n",
       "      <td>200500270</td>\n",
       "    </tr>\n",
       "    <tr>\n",
       "      <th>1305</th>\n",
       "      <td>222820</td>\n",
       "      <td>MSFT</td>\n",
       "      <td>Microsoft exposed 250M customer support records</td>\n",
       "      <td>news</td>\n",
       "      <td>Microsoft  MSFT  0 1   discloses a database er...</td>\n",
       "      <td>2020-01-23</td>\n",
       "      <td>Seeking Alpha</td>\n",
       "      <td>https://invst.ly/pli4a</td>\n",
       "      <td>2065317</td>\n",
       "    </tr>\n",
       "    <tr>\n",
       "      <th>1306</th>\n",
       "      <td>222821</td>\n",
       "      <td>MU</td>\n",
       "      <td>Wall Street dips as investors focus on Middle ...</td>\n",
       "      <td>news</td>\n",
       "      <td>By Caroline Valetkevitch NEW YORK  Reuters    ...</td>\n",
       "      <td>2020-01-07</td>\n",
       "      <td>Reuters</td>\n",
       "      <td>https://www.investing.com/news/stock-market-ne...</td>\n",
       "      <td>2053896</td>\n",
       "    </tr>\n",
       "  </tbody>\n",
       "</table>\n",
       "</div>"
      ],
      "text/plain": [
       "          id ticker                                              title  \\\n",
       "1302  222817   INTC  Intel  INTC  To Post Q4 Earnings  DCG   CCG In...   \n",
       "1303  222818   INTC  Stocks Jump About 2  This Week On Trade Deals ...   \n",
       "1304  222819   INTC  Apple Partner Pegatron Plans New Facilities In...   \n",
       "1305  222820   MSFT    Microsoft exposed 250M customer support records   \n",
       "1306  222821     MU  Wall Street dips as investors focus on Middle ...   \n",
       "\n",
       "     category                                            content release_date  \\\n",
       "1302  opinion  Intel   NASDAQ INTC   is scheduled to report f...   2020-01-20   \n",
       "1303  opinion  The major indices just finished another positi...   2020-01-20   \n",
       "1304  opinion  Apple s   NASDAQ AAPL   assembly partner  Pega...   2020-01-20   \n",
       "1305     news  Microsoft  MSFT  0 1   discloses a database er...   2020-01-23   \n",
       "1306     news  By Caroline Valetkevitch NEW YORK  Reuters    ...   2020-01-07   \n",
       "\n",
       "                       provider  \\\n",
       "1302  Zacks Investment Research   \n",
       "1303  Zacks Investment Research   \n",
       "1304  Zacks Investment Research   \n",
       "1305              Seeking Alpha   \n",
       "1306                    Reuters   \n",
       "\n",
       "                                                    url  article_id  \n",
       "1302  https://www.investing.com/analysis/intel-intc-...   200500288  \n",
       "1303  https://www.investing.com/analysis/stocks-jump...   200500165  \n",
       "1304  https://www.investing.com/analysis/apple-partn...   200500270  \n",
       "1305                             https://invst.ly/pli4a     2065317  \n",
       "1306  https://www.investing.com/news/stock-market-ne...     2053896  "
      ]
     },
     "execution_count": 19,
     "metadata": {},
     "output_type": "execute_result"
    }
   ],
   "source": [
    "to_save.head()"
   ]
  },
  {
   "cell_type": "code",
   "execution_count": 20,
   "metadata": {},
   "outputs": [],
   "source": [
    "# Save the relatively clean data\n",
    "to_save.to_csv('cleaned/other_headlines_5-22-22.csv')"
   ]
  },
  {
   "cell_type": "markdown",
   "metadata": {},
   "source": [
    "# Exploratory Data Analysis"
   ]
  },
  {
   "cell_type": "markdown",
   "metadata": {},
   "source": [
    "### Visualizing the High and Low prices"
   ]
  },
  {
   "cell_type": "code",
   "execution_count": 21,
   "metadata": {},
   "outputs": [
    {
     "data": {
      "image/png": "[encoded data removed]",
      "text/plain": [
       "<Figure size 432x288 with 1 Axes>"
      ]
     },
     "metadata": {
      "needs_background": "light"
     },
     "output_type": "display_data"
    }
   ],
   "source": [
    "df = spy_data['high low'.split()]\n",
    "df.plot()\n",
    "plt.title('SPY High/Low');"
   ]
  },
  {
   "cell_type": "markdown",
   "metadata": {},
   "source": [
    "### Calculating On-balance volume\n",
    "This is usefull for looking at volume flow\n",
    "\n",
    "`OBV = OBV_{prev} +/- volume`"
   ]
  },
  {
   "cell_type": "code",
   "execution_count": 22,
   "metadata": {},
   "outputs": [
    {
     "data": {
      "text/plain": [
       "date\n",
       "2022-05-16    9.871192e+09\n",
       "2022-05-13    9.947836e+09\n",
       "2022-05-12    9.843661e+09\n",
       "2022-05-11    9.968752e+09\n",
       "2022-05-10    1.011111e+10\n",
       "dtype: float64"
      ]
     },
     "execution_count": 22,
     "metadata": {},
     "output_type": "execute_result"
    }
   ],
   "source": [
    "obv = (np.sign(spy_data.close[::-1].diff()) * spy_data.volume[::-1]).fillna(0).cumsum()\n",
    "obv = obv[::-1]\n",
    "obv.head()"
   ]
  },
  {
   "cell_type": "code",
   "execution_count": 23,
   "metadata": {},
   "outputs": [
    {
     "data": {
      "image/png": "[encoded data removed]",
      "text/plain": [
       "<Figure size 432x288 with 2 Axes>"
      ]
     },
     "metadata": {
      "needs_background": "light"
     },
     "output_type": "display_data"
    }
   ],
   "source": [
    "fig, axes = plt.subplots(nrows=2, ncols=1, sharex=True)\n",
    "\n",
    "obv[:365].plot(ax=axes[1])\n",
    "df[:356].plot(ax=axes[0])\n",
    "plt.title('SPY On-Balance Volume');"
   ]
  },
  {
   "cell_type": "markdown",
   "metadata": {},
   "source": [
    "### Calculating Accumulation/Distribution Line\n",
    "- useful for determining money flow\n",
    "\n",
    "$$\n",
    "MFM = \\frac{(Close - Low) - (High - Close)}{High - Low}\n",
    "$$\n",
    "\n",
    "$$\n",
    "Money\\ Flow\\ Volume = MFM * Period\\ Volume\n",
    "$$\n",
    "\n",
    "$$\n",
    "A/D = Previous\\ A/D + Current\\ Money\\ Flow\\ Volume\n",
    "$$"
   ]
  },
  {
   "cell_type": "code",
   "execution_count": 24,
   "metadata": {},
   "outputs": [
    {
     "data": {
      "text/plain": [
       "date\n",
       "2022-05-16   -0.218210\n",
       "2022-05-13    0.614267\n",
       "2022-05-12    0.350235\n",
       "2022-05-11   -0.869205\n",
       "2022-05-10   -0.241563\n",
       "dtype: float64"
      ]
     },
     "execution_count": 24,
     "metadata": {},
     "output_type": "execute_result"
    }
   ],
   "source": [
    "multiplier = ((spy_data.close - spy_data.low) - (spy_data.high - spy_data.close))/(spy_data.high - spy_data.low)\n",
    "multiplier.head()"
   ]
  },
  {
   "cell_type": "code",
   "execution_count": 25,
   "metadata": {},
   "outputs": [
    {
     "data": {
      "text/plain": [
       "date\n",
       "2022-05-16   -1.672452e+07\n",
       "2022-05-13    6.399089e+07\n",
       "2022-05-12    4.381113e+07\n",
       "2022-05-11   -1.237409e+08\n",
       "2022-05-10   -3.200643e+07\n",
       "dtype: float64"
      ]
     },
     "execution_count": 25,
     "metadata": {},
     "output_type": "execute_result"
    }
   ],
   "source": [
    "MFVolume = multiplier * spy_data.volume\n",
    "MFVolume.head()"
   ]
  },
  {
   "cell_type": "code",
   "execution_count": 26,
   "metadata": {},
   "outputs": [
    {
     "data": {
      "text/plain": [
       "date\n",
       "2022-05-16    3.859796e+10\n",
       "2022-05-13    3.861468e+10\n",
       "2022-05-12    3.855069e+10\n",
       "2022-05-11    3.850688e+10\n",
       "2022-05-10    3.863062e+10\n",
       "dtype: float64"
      ]
     },
     "execution_count": 26,
     "metadata": {},
     "output_type": "execute_result"
    }
   ],
   "source": [
    "accum_dist_indicator = MFVolume[::-1].cumsum()[::-1]\n",
    "accum_dist_indicator.head()"
   ]
  },
  {
   "cell_type": "code",
   "execution_count": 27,
   "metadata": {},
   "outputs": [
    {
     "data": {
      "image/png": "[encoded data removed]",
      "text/plain": [
       "<Figure size 432x288 with 2 Axes>"
      ]
     },
     "metadata": {
      "needs_background": "light"
     },
     "output_type": "display_data"
    }
   ],
   "source": [
    "fig, axes = plt.subplots(nrows=2, ncols=1, sharex=True)\n",
    "\n",
    "accum_dist_indicator[:365].plot(ax=axes[1])\n",
    "df[:356].plot(ax=axes[0])\n",
    "axes[1].set_title('SPY Accumulation/Distribution Indicator');"
   ]
  },
  {
   "cell_type": "markdown",
   "metadata": {},
   "source": [
    "### Average Directional Index\n",
    "\n",
    "Useful for measuring strength of momentum of a trend. When ADX is above 40, the trend is considered to have a lot of directional strength, the direction depending on the price movement\n",
    "\n",
    "When it is below 20, it is considered to be non-trending\n",
    "\n",
    "The ADX is the main line on the indicator, usually colored black. There are two additional lines that can be optionally shown. These are DI+ and DI-. ~These lines are often colored red and green, respectively.~ All three lines work together to show the direction of the trend as well as the momentum of the trend. \n",
    "\n",
    "- ADX above 20 and DI+ above DI-: That's an uptrend.\n",
    "- ADX above 20 and DI- above DI+: That's a downtrend.\n",
    "- ADX below 20 is a weak trend or ranging period, often associated with the DI- and DI+ rapidly crisscrossing each other."
   ]
  },
  {
   "cell_type": "markdown",
   "metadata": {},
   "source": [
    "#### ADX Formulae\n",
    "\n",
    "$DI_+ = (\\frac{Smoothed\\ DM_+}{ATR}) * 100$\n",
    "\n",
    "$DI_- = (\\frac{Smoothed\\ DM_-}{ATR}) * 100$\n",
    "\n",
    "$DX = (\\frac{|DI_+-DI_-|}{|DI_++DI_-|}) * 100$\n",
    "\n",
    "$ADX = \\frac{(Prev\\ ADX * 13) + Current\\ ADX}{14}$"
   ]
  },
  {
   "cell_type": "code",
   "execution_count": 28,
   "metadata": {},
   "outputs": [],
   "source": [
    "# https://stackoverflow.com/questions/63020750/how-to-find-average-directional-movement-for-stocks-using-pandas\n",
    "def ADX(data: pd.DataFrame, period: int):\n",
    "    \"\"\"\n",
    "    Computes the ADX indicator.\n",
    "    \"\"\"\n",
    "    \n",
    "    df = data.copy()\n",
    "    alpha = 1/period\n",
    "\n",
    "    # TR\n",
    "    df['H-L'] = df['high'] - df['low']\n",
    "    df['H-C'] = np.abs(df['high'] - df['close'].shift(1))\n",
    "    df['L-C'] = np.abs(df['low'] - df['close'].shift(1))\n",
    "    df['TR'] = df[['H-L', 'H-C', 'L-C']].max(axis=1)\n",
    "    del df['H-L'], df['H-C'], df['L-C']\n",
    "\n",
    "    # ATR\n",
    "    df['ATR'] = df['TR'].ewm(alpha=alpha, adjust=False).mean()\n",
    "\n",
    "    # +-DX\n",
    "    df['H-pH'] = df['high'] - df['high'].shift(1)\n",
    "    df['pL-L'] = df['low'].shift(1) - df['low']\n",
    "    df['+DX'] = np.where(\n",
    "        (df['H-pH'] > df['pL-L']) & (df['H-pH']>0),\n",
    "        df['H-pH'],\n",
    "        0.0\n",
    "    )\n",
    "    df['-DX'] = np.where(\n",
    "        (df['H-pH'] < df['pL-L']) & (df['pL-L']>0),\n",
    "        df['pL-L'],\n",
    "        0.0\n",
    "    )\n",
    "    del df['H-pH'], df['pL-L']\n",
    "\n",
    "    # +- DMI\n",
    "    df['S+DM'] = df['+DX'].ewm(alpha=alpha, adjust=False).mean()\n",
    "    df['S-DM'] = df['-DX'].ewm(alpha=alpha, adjust=False).mean()\n",
    "    df['+DMI'] = (df['S+DM']/df['ATR'])*100\n",
    "    df['-DMI'] = (df['S-DM']/df['ATR'])*100\n",
    "    del df['S+DM'], df['S-DM']\n",
    "\n",
    "    # ADX\n",
    "    df['DX'] = (np.abs(df['+DMI'] - df['-DMI'])/(df['+DMI'] + df['-DMI']))*100\n",
    "    df['ADX'] = df['DX'].ewm(alpha=alpha, adjust=False).mean()\n",
    "    #del df['DX'], df['ATR'], df['TR'], df['-DX'], df['+DX'], df['+DMI'], df['-DMI']\n",
    "    del df['DX'], df['ATR'], df['TR'], df['-DX'], df['+DX'], df['date'], df['open'], df['high'], df['low'], df['close'], df['volume']\n",
    "    \n",
    "    return df\n",
    "\n",
    "spy_adx = ADX(spy_data[::-1],14)[::-1]"
   ]
  },
  {
   "cell_type": "code",
   "execution_count": 29,
   "metadata": {},
   "outputs": [
    {
     "data": {
      "image/png": "[encoded data removed]",
      "text/plain": [
       "<Figure size 432x288 with 2 Axes>"
      ]
     },
     "metadata": {
      "needs_background": "light"
     },
     "output_type": "display_data"
    }
   ],
   "source": [
    "fig, axes = plt.subplots(nrows=2, ncols=1, sharex=True)\n",
    "\n",
    "spy_adx[:365].plot(ax=axes[1])\n",
    "df[:356].plot(ax=axes[0])\n",
    "axes[1].legend(loc='upper left')\n",
    "axes[1].set_title('SPY ADX');"
   ]
  },
  {
   "cell_type": "markdown",
   "metadata": {},
   "source": [
    "### Text EDA"
   ]
  },
  {
   "cell_type": "code",
   "execution_count": 30,
   "metadata": {},
   "outputs": [
    {
     "data": {
      "text/html": [
       "<div>\n",
       "<style scoped>\n",
       "    .dataframe tbody tr th:only-of-type {\n",
       "        vertical-align: middle;\n",
       "    }\n",
       "\n",
       "    .dataframe tbody tr th {\n",
       "        vertical-align: top;\n",
       "    }\n",
       "\n",
       "    .dataframe thead th {\n",
       "        text-align: right;\n",
       "    }\n",
       "</style>\n",
       "<table border=\"1\" class=\"dataframe\">\n",
       "  <thead>\n",
       "    <tr style=\"text-align: right;\">\n",
       "      <th></th>\n",
       "      <th>id</th>\n",
       "      <th>ticker</th>\n",
       "      <th>title</th>\n",
       "      <th>category</th>\n",
       "      <th>content</th>\n",
       "      <th>release_date</th>\n",
       "      <th>provider</th>\n",
       "      <th>url</th>\n",
       "      <th>article_id</th>\n",
       "    </tr>\n",
       "  </thead>\n",
       "  <tbody>\n",
       "    <tr>\n",
       "      <th>1302</th>\n",
       "      <td>222817</td>\n",
       "      <td>INTC</td>\n",
       "      <td>Intel  INTC  To Post Q4 Earnings  DCG   CCG In...</td>\n",
       "      <td>opinion</td>\n",
       "      <td>Intel   NASDAQ INTC   is scheduled to report f...</td>\n",
       "      <td>2020-01-20</td>\n",
       "      <td>Zacks Investment Research</td>\n",
       "      <td>https://www.investing.com/analysis/intel-intc-...</td>\n",
       "      <td>200500288</td>\n",
       "    </tr>\n",
       "    <tr>\n",
       "      <th>1303</th>\n",
       "      <td>222818</td>\n",
       "      <td>INTC</td>\n",
       "      <td>Stocks Jump About 2  This Week On Trade Deals ...</td>\n",
       "      <td>opinion</td>\n",
       "      <td>The major indices just finished another positi...</td>\n",
       "      <td>2020-01-20</td>\n",
       "      <td>Zacks Investment Research</td>\n",
       "      <td>https://www.investing.com/analysis/stocks-jump...</td>\n",
       "      <td>200500165</td>\n",
       "    </tr>\n",
       "    <tr>\n",
       "      <th>1304</th>\n",
       "      <td>222819</td>\n",
       "      <td>INTC</td>\n",
       "      <td>Apple Partner Pegatron Plans New Facilities In...</td>\n",
       "      <td>opinion</td>\n",
       "      <td>Apple s   NASDAQ AAPL   assembly partner  Pega...</td>\n",
       "      <td>2020-01-20</td>\n",
       "      <td>Zacks Investment Research</td>\n",
       "      <td>https://www.investing.com/analysis/apple-partn...</td>\n",
       "      <td>200500270</td>\n",
       "    </tr>\n",
       "    <tr>\n",
       "      <th>1305</th>\n",
       "      <td>222820</td>\n",
       "      <td>MSFT</td>\n",
       "      <td>Microsoft exposed 250M customer support records</td>\n",
       "      <td>news</td>\n",
       "      <td>Microsoft  MSFT  0 1   discloses a database er...</td>\n",
       "      <td>2020-01-23</td>\n",
       "      <td>Seeking Alpha</td>\n",
       "      <td>https://invst.ly/pli4a</td>\n",
       "      <td>2065317</td>\n",
       "    </tr>\n",
       "    <tr>\n",
       "      <th>1306</th>\n",
       "      <td>222821</td>\n",
       "      <td>MU</td>\n",
       "      <td>Wall Street dips as investors focus on Middle ...</td>\n",
       "      <td>news</td>\n",
       "      <td>By Caroline Valetkevitch NEW YORK  Reuters    ...</td>\n",
       "      <td>2020-01-07</td>\n",
       "      <td>Reuters</td>\n",
       "      <td>https://www.investing.com/news/stock-market-ne...</td>\n",
       "      <td>2053896</td>\n",
       "    </tr>\n",
       "  </tbody>\n",
       "</table>\n",
       "</div>"
      ],
      "text/plain": [
       "          id ticker                                              title  \\\n",
       "1302  222817   INTC  Intel  INTC  To Post Q4 Earnings  DCG   CCG In...   \n",
       "1303  222818   INTC  Stocks Jump About 2  This Week On Trade Deals ...   \n",
       "1304  222819   INTC  Apple Partner Pegatron Plans New Facilities In...   \n",
       "1305  222820   MSFT    Microsoft exposed 250M customer support records   \n",
       "1306  222821     MU  Wall Street dips as investors focus on Middle ...   \n",
       "\n",
       "     category                                            content release_date  \\\n",
       "1302  opinion  Intel   NASDAQ INTC   is scheduled to report f...   2020-01-20   \n",
       "1303  opinion  The major indices just finished another positi...   2020-01-20   \n",
       "1304  opinion  Apple s   NASDAQ AAPL   assembly partner  Pega...   2020-01-20   \n",
       "1305     news  Microsoft  MSFT  0 1   discloses a database er...   2020-01-23   \n",
       "1306     news  By Caroline Valetkevitch NEW YORK  Reuters    ...   2020-01-07   \n",
       "\n",
       "                       provider  \\\n",
       "1302  Zacks Investment Research   \n",
       "1303  Zacks Investment Research   \n",
       "1304  Zacks Investment Research   \n",
       "1305              Seeking Alpha   \n",
       "1306                    Reuters   \n",
       "\n",
       "                                                    url  article_id  \n",
       "1302  https://www.investing.com/analysis/intel-intc-...   200500288  \n",
       "1303  https://www.investing.com/analysis/stocks-jump...   200500165  \n",
       "1304  https://www.investing.com/analysis/apple-partn...   200500270  \n",
       "1305                             https://invst.ly/pli4a     2065317  \n",
       "1306  https://www.investing.com/news/stock-market-ne...     2053896  "
      ]
     },
     "execution_count": 30,
     "metadata": {},
     "output_type": "execute_result"
    }
   ],
   "source": [
    "df = to_save\n",
    "df.head()"
   ]
  },
  {
   "cell_type": "code",
   "execution_count": 31,
   "metadata": {},
   "outputs": [
    {
     "data": {
      "text/html": [
       "<div>\n",
       "<style scoped>\n",
       "    .dataframe tbody tr th:only-of-type {\n",
       "        vertical-align: middle;\n",
       "    }\n",
       "\n",
       "    .dataframe tbody tr th {\n",
       "        vertical-align: top;\n",
       "    }\n",
       "\n",
       "    .dataframe thead th {\n",
       "        text-align: right;\n",
       "    }\n",
       "</style>\n",
       "<table border=\"1\" class=\"dataframe\">\n",
       "  <thead>\n",
       "    <tr style=\"text-align: right;\">\n",
       "      <th></th>\n",
       "      <th>id</th>\n",
       "      <th>ticker</th>\n",
       "      <th>title</th>\n",
       "      <th>category</th>\n",
       "      <th>content</th>\n",
       "      <th>release_date</th>\n",
       "      <th>provider</th>\n",
       "      <th>url</th>\n",
       "      <th>article_id</th>\n",
       "    </tr>\n",
       "  </thead>\n",
       "  <tbody>\n",
       "    <tr>\n",
       "      <th>49183</th>\n",
       "      <td>270698</td>\n",
       "      <td>AAPL</td>\n",
       "      <td>JPMorgan cautious ahead of Apple earnings</td>\n",
       "      <td>news</td>\n",
       "      <td>JPMorgan lifts its Apple  AAPL  2 9   target f...</td>\n",
       "      <td>2020-01-28</td>\n",
       "      <td>Seeking Alpha</td>\n",
       "      <td>https://invst.ly/pnjv8</td>\n",
       "      <td>2068762</td>\n",
       "    </tr>\n",
       "    <tr>\n",
       "      <th>49184</th>\n",
       "      <td>270699</td>\n",
       "      <td>AAPL</td>\n",
       "      <td>FAANG s Fall  but Get Some Wall Street Love</td>\n",
       "      <td>news</td>\n",
       "      <td>By Kim Khan \\nInvesting com   The FAANG stocks...</td>\n",
       "      <td>2020-01-28</td>\n",
       "      <td>Investing.com</td>\n",
       "      <td>https://www.investing.com/news/stock-market-ne...</td>\n",
       "      <td>2068765</td>\n",
       "    </tr>\n",
       "    <tr>\n",
       "      <th>49185</th>\n",
       "      <td>270700</td>\n",
       "      <td>AAPL</td>\n",
       "      <td>Wall Street tumbles as virus fuels economic worry</td>\n",
       "      <td>news</td>\n",
       "      <td>By Chuck Mikolajczak NEW YORK  Reuters    U S ...</td>\n",
       "      <td>2020-01-28</td>\n",
       "      <td>Reuters</td>\n",
       "      <td>https://www.investing.com/news/stock-market-ne...</td>\n",
       "      <td>2068311</td>\n",
       "    </tr>\n",
       "    <tr>\n",
       "      <th>49186</th>\n",
       "      <td>270701</td>\n",
       "      <td>AAPL</td>\n",
       "      <td>Earnings Watch  Apple and AMD to take earnings...</td>\n",
       "      <td>news</td>\n",
       "      <td>Two of the best performing tech stocks of 2019...</td>\n",
       "      <td>2020-01-28</td>\n",
       "      <td>MarketWatch</td>\n",
       "      <td>https://invst.ly/pnlbs</td>\n",
       "      <td>2068906</td>\n",
       "    </tr>\n",
       "    <tr>\n",
       "      <th>49187</th>\n",
       "      <td>270702</td>\n",
       "      <td>AAPL</td>\n",
       "      <td>Day Ahead  Top 3 Things to Watch for Jan 28</td>\n",
       "      <td>news</td>\n",
       "      <td>By Yasin Ebrahim and Kim Khan \\n1  Apple Readi...</td>\n",
       "      <td>2020-01-28</td>\n",
       "      <td>Investing.com</td>\n",
       "      <td>https://www.investing.com/news/stock-market-ne...</td>\n",
       "      <td>2068907</td>\n",
       "    </tr>\n",
       "    <tr>\n",
       "      <th>...</th>\n",
       "      <td>...</td>\n",
       "      <td>...</td>\n",
       "      <td>...</td>\n",
       "      <td>...</td>\n",
       "      <td>...</td>\n",
       "      <td>...</td>\n",
       "      <td>...</td>\n",
       "      <td>...</td>\n",
       "      <td>...</td>\n",
       "    </tr>\n",
       "    <tr>\n",
       "      <th>69409</th>\n",
       "      <td>290924</td>\n",
       "      <td>AAPL</td>\n",
       "      <td>Waiting For Direction On The Markets</td>\n",
       "      <td>opinion</td>\n",
       "      <td>This stock market has been a difficult one for...</td>\n",
       "      <td>2012-07-16</td>\n",
       "      <td>Cam Hui</td>\n",
       "      <td>https://www.investing.com/analysis/waiting-for...</td>\n",
       "      <td>129680</td>\n",
       "    </tr>\n",
       "    <tr>\n",
       "      <th>69410</th>\n",
       "      <td>290925</td>\n",
       "      <td>AAPL</td>\n",
       "      <td>Mid Year Update  U S  And Canadian Stock Marke...</td>\n",
       "      <td>opinion</td>\n",
       "      <td>From 2004 to 2010 the TSX 300 Index of leading...</td>\n",
       "      <td>2012-07-19</td>\n",
       "      <td>Baskin Financial Blog</td>\n",
       "      <td>https://www.investing.com/analysis/mid-year-up...</td>\n",
       "      <td>130056</td>\n",
       "    </tr>\n",
       "    <tr>\n",
       "      <th>69411</th>\n",
       "      <td>290926</td>\n",
       "      <td>AAPL</td>\n",
       "      <td>Summer Heat Scorches Europe And U S</td>\n",
       "      <td>opinion</td>\n",
       "      <td>Europe flares as summer heat continues  Summer...</td>\n",
       "      <td>2012-07-23</td>\n",
       "      <td>John Nyaradi</td>\n",
       "      <td>https://www.investing.com/analysis/summer-heat...</td>\n",
       "      <td>130439</td>\n",
       "    </tr>\n",
       "    <tr>\n",
       "      <th>69412</th>\n",
       "      <td>290927</td>\n",
       "      <td>AAPL</td>\n",
       "      <td>Apple Earnings Preview  Quarterly Dip On Deck</td>\n",
       "      <td>opinion</td>\n",
       "      <td>Last quarter Apple  AAPL  reported the 2nd bes...</td>\n",
       "      <td>2012-07-23</td>\n",
       "      <td>David Dyer</td>\n",
       "      <td>https://www.investing.com/analysis/apple-earni...</td>\n",
       "      <td>130458</td>\n",
       "    </tr>\n",
       "    <tr>\n",
       "      <th>69413</th>\n",
       "      <td>290928</td>\n",
       "      <td>AAPL</td>\n",
       "      <td>Trade Apple After Earnings</td>\n",
       "      <td>opinion</td>\n",
       "      <td>It may look like a spider web  but the mishmas...</td>\n",
       "      <td>2012-07-23</td>\n",
       "      <td>Abigail Doolittle</td>\n",
       "      <td>https://www.investing.com/analysis/trade-apple...</td>\n",
       "      <td>130440</td>\n",
       "    </tr>\n",
       "  </tbody>\n",
       "</table>\n",
       "<p>20231 rows × 9 columns</p>\n",
       "</div>"
      ],
      "text/plain": [
       "           id ticker                                              title  \\\n",
       "49183  270698   AAPL          JPMorgan cautious ahead of Apple earnings   \n",
       "49184  270699   AAPL        FAANG s Fall  but Get Some Wall Street Love   \n",
       "49185  270700   AAPL  Wall Street tumbles as virus fuels economic worry   \n",
       "49186  270701   AAPL  Earnings Watch  Apple and AMD to take earnings...   \n",
       "49187  270702   AAPL        Day Ahead  Top 3 Things to Watch for Jan 28   \n",
       "...       ...    ...                                                ...   \n",
       "69409  290924   AAPL               Waiting For Direction On The Markets   \n",
       "69410  290925   AAPL  Mid Year Update  U S  And Canadian Stock Marke...   \n",
       "69411  290926   AAPL               Summer Heat Scorches Europe And U S    \n",
       "69412  290927   AAPL     Apple Earnings Preview  Quarterly Dip On Deck    \n",
       "69413  290928   AAPL                         Trade Apple After Earnings   \n",
       "\n",
       "      category                                            content  \\\n",
       "49183     news  JPMorgan lifts its Apple  AAPL  2 9   target f...   \n",
       "49184     news  By Kim Khan \\nInvesting com   The FAANG stocks...   \n",
       "49185     news  By Chuck Mikolajczak NEW YORK  Reuters    U S ...   \n",
       "49186     news  Two of the best performing tech stocks of 2019...   \n",
       "49187     news  By Yasin Ebrahim and Kim Khan \\n1  Apple Readi...   \n",
       "...        ...                                                ...   \n",
       "69409  opinion  This stock market has been a difficult one for...   \n",
       "69410  opinion  From 2004 to 2010 the TSX 300 Index of leading...   \n",
       "69411  opinion  Europe flares as summer heat continues  Summer...   \n",
       "69412  opinion  Last quarter Apple  AAPL  reported the 2nd bes...   \n",
       "69413  opinion  It may look like a spider web  but the mishmas...   \n",
       "\n",
       "      release_date               provider  \\\n",
       "49183   2020-01-28          Seeking Alpha   \n",
       "49184   2020-01-28          Investing.com   \n",
       "49185   2020-01-28                Reuters   \n",
       "49186   2020-01-28            MarketWatch   \n",
       "49187   2020-01-28          Investing.com   \n",
       "...            ...                    ...   \n",
       "69409   2012-07-16                Cam Hui   \n",
       "69410   2012-07-19  Baskin Financial Blog   \n",
       "69411   2012-07-23           John Nyaradi   \n",
       "69412   2012-07-23             David Dyer   \n",
       "69413   2012-07-23      Abigail Doolittle   \n",
       "\n",
       "                                                     url  article_id  \n",
       "49183                             https://invst.ly/pnjv8     2068762  \n",
       "49184  https://www.investing.com/news/stock-market-ne...     2068765  \n",
       "49185  https://www.investing.com/news/stock-market-ne...     2068311  \n",
       "49186                             https://invst.ly/pnlbs     2068906  \n",
       "49187  https://www.investing.com/news/stock-market-ne...     2068907  \n",
       "...                                                  ...         ...  \n",
       "69409  https://www.investing.com/analysis/waiting-for...      129680  \n",
       "69410  https://www.investing.com/analysis/mid-year-up...      130056  \n",
       "69411  https://www.investing.com/analysis/summer-heat...      130439  \n",
       "69412  https://www.investing.com/analysis/apple-earni...      130458  \n",
       "69413  https://www.investing.com/analysis/trade-apple...      130440  \n",
       "\n",
       "[20231 rows x 9 columns]"
      ]
     },
     "execution_count": 31,
     "metadata": {},
     "output_type": "execute_result"
    }
   ],
   "source": [
    "aapl_news = df[df.ticker == 'AAPL']\n",
    "aapl_news"
   ]
  },
  {
   "cell_type": "code",
   "execution_count": 34,
   "metadata": {
    "scrolled": true
   },
   "outputs": [],
   "source": [
    "top_dict = {}\n",
    "for idx in aapl_news.index:\n",
    "    for word in aapl_news.loc[idx].title.split():\n",
    "        if word not in top_dict.keys():\n",
    "            top_dict[word] = 0\n",
    "        top_dict[word] += 1\n"
   ]
  },
  {
   "cell_type": "code",
   "execution_count": 35,
   "metadata": {},
   "outputs": [
    {
     "data": {
      "text/plain": [
       "JPMorgan      52\n",
       "cautious      11\n",
       "ahead        108\n",
       "of           747\n",
       "Apple       4248\n",
       "            ... \n",
       "Sifting        1\n",
       "Rubble         1\n",
       "Snatch         1\n",
       "Jaws           1\n",
       "Scorches       1\n",
       "Length: 18431, dtype: int64"
      ]
     },
     "execution_count": 35,
     "metadata": {},
     "output_type": "execute_result"
    }
   ],
   "source": [
    "df = pd.Series(top_dict)\n",
    "df"
   ]
  },
  {
   "cell_type": "code",
   "execution_count": 36,
   "metadata": {},
   "outputs": [
    {
     "data": {
      "text/plain": [
       "Apple       4248\n",
       "s           3211\n",
       "To          2924\n",
       "Earnings    2720\n",
       "The         2552\n",
       "In          2172\n",
       "For         2022\n",
       "to          1959\n",
       "Stock       1867\n",
       "S           1577\n",
       "Stocks      1573\n",
       "And         1500\n",
       "On          1339\n",
       "A           1332\n",
       "in          1260\n",
       "U           1133\n",
       "Of          1130\n",
       "Market       968\n",
       "on           959\n",
       "Is           920\n",
       "dtype: int64"
      ]
     },
     "execution_count": 36,
     "metadata": {},
     "output_type": "execute_result"
    }
   ],
   "source": [
    "df.sort_values(ascending=False).head(20)"
   ]
  }
 ],
 "metadata": {
  "kernelspec": {
   "display_name": "Python 3",
   "language": "python",
   "name": "python3"
  },
  "language_info": {
   "codemirror_mode": {
    "name": "ipython",
    "version": 3
   },
   "file_extension": ".py",
   "mimetype": "text/x-python",
   "name": "python",
   "nbconvert_exporter": "python",
   "pygments_lexer": "ipython3",
   "version": "3.8.10"
  }
 },
 "nbformat": 4,
 "nbformat_minor": 2
}
