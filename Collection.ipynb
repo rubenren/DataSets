{
 "cells": [
  {
   "cell_type": "markdown",
   "metadata": {},
   "source": [
    "# Data Collection Testing"
   ]
  },
  {
   "cell_type": "markdown",
   "metadata": {},
   "source": [
    "### Grab the api key for NASDAQ"
   ]
  },
  {
   "cell_type": "code",
   "execution_count": 2,
   "metadata": {},
   "outputs": [],
   "source": [
    "import os\n",
    "from dotenv import load_dotenv # if missing this module, simply run `pip install python-dotenv`\n",
    "\n",
    "load_dotenv()\n",
    "API_KEY = os.getenv('NASDAQ_API_KEY')"
   ]
  },
  {
   "cell_type": "markdown",
   "metadata": {},
   "source": [
    "### Import the relevant modules and packages"
   ]
  },
  {
   "cell_type": "code",
   "execution_count": 3,
   "metadata": {},
   "outputs": [],
   "source": [
    "import requests"
   ]
  },
  {
   "cell_type": "markdown",
   "metadata": {},
   "source": [
    "### Take a quick look at the data to see its structure"
   ]
  },
  {
   "cell_type": "code",
   "execution_count": 4,
   "metadata": {},
   "outputs": [],
   "source": [
    "# Specify the url and paramaters\n",
    "# Taking the data source from the data wrangling miniproject\n",
    "# https://github.com/rubenren/mec-mini-projects\n",
    "url = 'https://data.nasdaq.com/api/v3/datasets/FSE/AFX_X/data.json'\n",
    "params = {'api_key': API_KEY}\n",
    "\n",
    "# Create the response object\n",
    "r = requests.get(url, params=params)\n",
    "\n",
    "dataObject = dict(r.json())"
   ]
  },
  {
   "cell_type": "code",
   "execution_count": 9,
   "metadata": {},
   "outputs": [
    {
     "name": "stdout",
     "output_type": "stream",
     "text": [
      "dict_keys(['dataset_data'])\n",
      "<class 'dict'>\n",
      "dict_keys(['limit', 'transform', 'column_index', 'column_names', 'start_date', 'end_date', 'frequency', 'data', 'collapse', 'order'])\n",
      "\n",
      "limit: <class 'NoneType'>\n",
      "transform: <class 'NoneType'>\n",
      "column_index: <class 'NoneType'>\n",
      "column_names: <class 'list'>\n",
      "start_date: <class 'str'>\n",
      "end_date: <class 'str'>\n",
      "frequency: <class 'str'>\n",
      "data: <class 'list'>\n",
      "collapse: <class 'NoneType'>\n",
      "order: <class 'NoneType'>\n",
      "\n",
      "collapse: None\n",
      "limit: None\n",
      "order: None\n",
      "column_names: ['Date', 'Open', 'High', 'Low', 'Close', 'Change', 'Traded Volume', 'Turnover', 'Last Price of the Day', 'Daily Traded Units', 'Daily Turnover']\n",
      "column_index: None\n",
      "transform: None\n",
      "end_date: 2020-12-01\n",
      "frequency: daily\n",
      "start_date: 2000-06-07\n"
     ]
    }
   ],
   "source": [
    "# Inspecting the jason object we got\n",
    "print(dataObject.keys())\n",
    "print(type(dataObject['dataset_data']))\n",
    "print(dataObject['dataset_data'].keys())\n",
    "\n",
    "print()\n",
    "for item in dataObject['dataset_data'].keys():\n",
    "    print(item + ':', type(dataObject['dataset_data'][item]))\n",
    "\n",
    "# Probably want to look at everything other than data for now\n",
    "print()\n",
    "for item in dataObject['dataset_data'].keys() - ['data']:\n",
    "    print(item + ':', dataObject['dataset_data'][item])"
   ]
  },
  {
   "cell_type": "code",
   "execution_count": 16,
   "metadata": {},
   "outputs": [
    {
     "name": "stdout",
     "output_type": "stream",
     "text": [
      "<class 'list'>\n",
      "5268\n",
      "['Date', 'Open', 'High', 'Low', 'Close', 'Change', 'Traded Volume', 'Turnover', 'Last Price of the Day', 'Daily Traded Units', 'Daily Turnover']\n",
      "['2020-12-01', 112.2, 112.2, 111.5, 112.0, None, 51.0, 5703.0, None, None, None]\n",
      "['2020-11-30', 111.0, 113.6, 111.0, 112.1, None, 315.0, 35111.5, None, None, None]\n"
     ]
    }
   ],
   "source": [
    "# Now we can take a peek at the raw data\n",
    "print(type(dataObject['dataset_data']['data']))\n",
    "print(len(dataObject['dataset_data']['data']))\n",
    "print(dataObject['dataset_data']['column_names'])\n",
    "print(dataObject['dataset_data']['data'][0])\n",
    "print(dataObject['dataset_data']['data'][1])"
   ]
  },
  {
   "cell_type": "markdown",
   "metadata": {},
   "source": [
    "## Save the data into a json file"
   ]
  },
  {
   "cell_type": "markdown",
   "metadata": {},
   "source": [
    "Define the variables, and imports first"
   ]
  },
  {
   "cell_type": "code",
   "execution_count": 18,
   "metadata": {},
   "outputs": [],
   "source": [
    "import json\n",
    "\n",
    "file_name = 'data/FSE_AFX_X_2000-2020.json'"
   ]
  },
  {
   "cell_type": "code",
   "execution_count": 20,
   "metadata": {},
   "outputs": [],
   "source": [
    "# Write the data to the file.\n",
    "with open(file_name, 'w') as outfile:\n",
    "    json.dump(dataObject, outfile)"
   ]
  },
  {
   "cell_type": "code",
   "execution_count": null,
   "metadata": {},
   "outputs": [],
   "source": []
  }
 ],
 "metadata": {
  "kernelspec": {
   "display_name": "Python 3",
   "language": "python",
   "name": "python3"
  },
  "language_info": {
   "codemirror_mode": {
    "name": "ipython",
    "version": 3
   },
   "file_extension": ".py",
   "mimetype": "text/x-python",
   "name": "python",
   "nbconvert_exporter": "python",
   "pygments_lexer": "ipython3",
   "version": "3.7.4"
  }
 },
 "nbformat": 4,
 "nbformat_minor": 2
}
